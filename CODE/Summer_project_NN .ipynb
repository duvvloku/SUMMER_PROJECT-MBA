{
 "cells": [
  {
   "cell_type": "code",
   "execution_count": 1,
   "metadata": {
    "id": "Rs8l0gL01JUC"
   },
   "outputs": [],
   "source": [
    "import pandas as pd\n",
    "import numpy as np"
   ]
  },
  {
   "cell_type": "code",
   "execution_count": 2,
   "metadata": {
    "colab": {
     "base_uri": "https://localhost:8080/",
     "height": 215
    },
    "id": "Zh2eutEm5L9-",
    "outputId": "ebb3b21e-d504-4044-c22c-712538ca64ca"
   },
   "outputs": [
    {
     "data": {
      "text/html": [
       "<div>\n",
       "<style scoped>\n",
       "    .dataframe tbody tr th:only-of-type {\n",
       "        vertical-align: middle;\n",
       "    }\n",
       "\n",
       "    .dataframe tbody tr th {\n",
       "        vertical-align: top;\n",
       "    }\n",
       "\n",
       "    .dataframe thead th {\n",
       "        text-align: right;\n",
       "    }\n",
       "</style>\n",
       "<table border=\"1\" class=\"dataframe\">\n",
       "  <thead>\n",
       "    <tr style=\"text-align: right;\">\n",
       "      <th></th>\n",
       "      <th>student_id</th>\n",
       "      <th>Age</th>\n",
       "      <th>Gender</th>\n",
       "      <th>College_location</th>\n",
       "      <th>educational_designation</th>\n",
       "      <th>educational_stream</th>\n",
       "      <th>Place_grownup_in</th>\n",
       "      <th>school_region</th>\n",
       "      <th>school_Type</th>\n",
       "      <th>school_board</th>\n",
       "      <th>learning_style</th>\n",
       "      <th>V1</th>\n",
       "      <th>A1</th>\n",
       "      <th>R1</th>\n",
       "      <th>K1</th>\n",
       "      <th>V2</th>\n",
       "      <th>A2</th>\n",
       "      <th>R2</th>\n",
       "      <th>K2</th>\n",
       "      <th>style</th>\n",
       "    </tr>\n",
       "  </thead>\n",
       "  <tbody>\n",
       "    <tr>\n",
       "      <th>0</th>\n",
       "      <td>1</td>\n",
       "      <td>0</td>\n",
       "      <td>1</td>\n",
       "      <td>22</td>\n",
       "      <td>1</td>\n",
       "      <td>4</td>\n",
       "      <td>0</td>\n",
       "      <td>0</td>\n",
       "      <td>2</td>\n",
       "      <td>2</td>\n",
       "      <td>Multi</td>\n",
       "      <td>3.000000</td>\n",
       "      <td>3.000000</td>\n",
       "      <td>3.000000</td>\n",
       "      <td>3.000000</td>\n",
       "      <td>3.000000</td>\n",
       "      <td>3.000000</td>\n",
       "      <td>3.000000</td>\n",
       "      <td>3.000000</td>\n",
       "      <td>1</td>\n",
       "    </tr>\n",
       "    <tr>\n",
       "      <th>1</th>\n",
       "      <td>2</td>\n",
       "      <td>0</td>\n",
       "      <td>1</td>\n",
       "      <td>22</td>\n",
       "      <td>2</td>\n",
       "      <td>2</td>\n",
       "      <td>6</td>\n",
       "      <td>0</td>\n",
       "      <td>2</td>\n",
       "      <td>2</td>\n",
       "      <td>Multi</td>\n",
       "      <td>2.000000</td>\n",
       "      <td>1.666667</td>\n",
       "      <td>2.000000</td>\n",
       "      <td>2.333333</td>\n",
       "      <td>4.166667</td>\n",
       "      <td>3.500000</td>\n",
       "      <td>3.166667</td>\n",
       "      <td>3.500000</td>\n",
       "      <td>0</td>\n",
       "    </tr>\n",
       "    <tr>\n",
       "      <th>2</th>\n",
       "      <td>3</td>\n",
       "      <td>0</td>\n",
       "      <td>0</td>\n",
       "      <td>14</td>\n",
       "      <td>1</td>\n",
       "      <td>4</td>\n",
       "      <td>4</td>\n",
       "      <td>3</td>\n",
       "      <td>0</td>\n",
       "      <td>0</td>\n",
       "      <td>Multi</td>\n",
       "      <td>3.000000</td>\n",
       "      <td>3.666667</td>\n",
       "      <td>2.666667</td>\n",
       "      <td>3.000000</td>\n",
       "      <td>4.666667</td>\n",
       "      <td>3.833333</td>\n",
       "      <td>4.333333</td>\n",
       "      <td>4.000000</td>\n",
       "      <td>2</td>\n",
       "    </tr>\n",
       "    <tr>\n",
       "      <th>3</th>\n",
       "      <td>4</td>\n",
       "      <td>0</td>\n",
       "      <td>1</td>\n",
       "      <td>2</td>\n",
       "      <td>2</td>\n",
       "      <td>2</td>\n",
       "      <td>4</td>\n",
       "      <td>6</td>\n",
       "      <td>2</td>\n",
       "      <td>2</td>\n",
       "      <td>K</td>\n",
       "      <td>2.666667</td>\n",
       "      <td>3.000000</td>\n",
       "      <td>2.333333</td>\n",
       "      <td>3.000000</td>\n",
       "      <td>3.333333</td>\n",
       "      <td>3.666667</td>\n",
       "      <td>3.500000</td>\n",
       "      <td>3.833333</td>\n",
       "      <td>1</td>\n",
       "    </tr>\n",
       "    <tr>\n",
       "      <th>4</th>\n",
       "      <td>5</td>\n",
       "      <td>0</td>\n",
       "      <td>0</td>\n",
       "      <td>22</td>\n",
       "      <td>1</td>\n",
       "      <td>4</td>\n",
       "      <td>0</td>\n",
       "      <td>0</td>\n",
       "      <td>2</td>\n",
       "      <td>2</td>\n",
       "      <td>A</td>\n",
       "      <td>3.333333</td>\n",
       "      <td>3.000000</td>\n",
       "      <td>3.000000</td>\n",
       "      <td>3.000000</td>\n",
       "      <td>3.000000</td>\n",
       "      <td>3.166667</td>\n",
       "      <td>3.000000</td>\n",
       "      <td>3.000000</td>\n",
       "      <td>0</td>\n",
       "    </tr>\n",
       "  </tbody>\n",
       "</table>\n",
       "</div>"
      ],
      "text/plain": [
       "   student_id  Age  Gender  ...        R2        K2  style\n",
       "0           1    0       1  ...  3.000000  3.000000      1\n",
       "1           2    0       1  ...  3.166667  3.500000      0\n",
       "2           3    0       0  ...  4.333333  4.000000      2\n",
       "3           4    0       1  ...  3.500000  3.833333      1\n",
       "4           5    0       0  ...  3.000000  3.000000      0\n",
       "\n",
       "[5 rows x 20 columns]"
      ]
     },
     "execution_count": 2,
     "metadata": {
      "tags": []
     },
     "output_type": "execute_result"
    }
   ],
   "source": [
    "learn = pd.read_csv('/content/drive/My Drive/HAX/summer project/learning_style_dataset.csv')\n",
    "learn.head()"
   ]
  },
  {
   "cell_type": "code",
   "execution_count": 3,
   "metadata": {
    "colab": {
     "base_uri": "https://localhost:8080/",
     "height": 215
    },
    "id": "WOId8jmr5WLg",
    "outputId": "c2eb2d5c-8b73-44de-c003-01290c7431b4"
   },
   "outputs": [
    {
     "data": {
      "text/html": [
       "<div>\n",
       "<style scoped>\n",
       "    .dataframe tbody tr th:only-of-type {\n",
       "        vertical-align: middle;\n",
       "    }\n",
       "\n",
       "    .dataframe tbody tr th {\n",
       "        vertical-align: top;\n",
       "    }\n",
       "\n",
       "    .dataframe thead th {\n",
       "        text-align: right;\n",
       "    }\n",
       "</style>\n",
       "<table border=\"1\" class=\"dataframe\">\n",
       "  <thead>\n",
       "    <tr style=\"text-align: right;\">\n",
       "      <th></th>\n",
       "      <th>student_id</th>\n",
       "      <th>Age</th>\n",
       "      <th>Gender</th>\n",
       "      <th>College_location</th>\n",
       "      <th>educational_designation</th>\n",
       "      <th>educational_stream</th>\n",
       "      <th>Place_grownup_in</th>\n",
       "      <th>school_region</th>\n",
       "      <th>school_Type</th>\n",
       "      <th>school_board</th>\n",
       "      <th>learning_style</th>\n",
       "      <th>V1</th>\n",
       "      <th>A1</th>\n",
       "      <th>R1</th>\n",
       "      <th>K1</th>\n",
       "      <th>V2</th>\n",
       "      <th>A2</th>\n",
       "      <th>R2</th>\n",
       "      <th>K2</th>\n",
       "      <th>style</th>\n",
       "    </tr>\n",
       "  </thead>\n",
       "  <tbody>\n",
       "    <tr>\n",
       "      <th>0</th>\n",
       "      <td>1</td>\n",
       "      <td>0</td>\n",
       "      <td>1</td>\n",
       "      <td>22</td>\n",
       "      <td>1</td>\n",
       "      <td>4</td>\n",
       "      <td>0</td>\n",
       "      <td>0</td>\n",
       "      <td>2</td>\n",
       "      <td>2</td>\n",
       "      <td>2</td>\n",
       "      <td>3.000000</td>\n",
       "      <td>3.000000</td>\n",
       "      <td>3.000000</td>\n",
       "      <td>3.000000</td>\n",
       "      <td>3.000000</td>\n",
       "      <td>3.000000</td>\n",
       "      <td>3.000000</td>\n",
       "      <td>3.000000</td>\n",
       "      <td>1</td>\n",
       "    </tr>\n",
       "    <tr>\n",
       "      <th>1</th>\n",
       "      <td>2</td>\n",
       "      <td>0</td>\n",
       "      <td>1</td>\n",
       "      <td>22</td>\n",
       "      <td>2</td>\n",
       "      <td>2</td>\n",
       "      <td>6</td>\n",
       "      <td>0</td>\n",
       "      <td>2</td>\n",
       "      <td>2</td>\n",
       "      <td>2</td>\n",
       "      <td>2.000000</td>\n",
       "      <td>1.666667</td>\n",
       "      <td>2.000000</td>\n",
       "      <td>2.333333</td>\n",
       "      <td>4.166667</td>\n",
       "      <td>3.500000</td>\n",
       "      <td>3.166667</td>\n",
       "      <td>3.500000</td>\n",
       "      <td>0</td>\n",
       "    </tr>\n",
       "    <tr>\n",
       "      <th>2</th>\n",
       "      <td>3</td>\n",
       "      <td>0</td>\n",
       "      <td>0</td>\n",
       "      <td>14</td>\n",
       "      <td>1</td>\n",
       "      <td>4</td>\n",
       "      <td>4</td>\n",
       "      <td>3</td>\n",
       "      <td>0</td>\n",
       "      <td>0</td>\n",
       "      <td>2</td>\n",
       "      <td>3.000000</td>\n",
       "      <td>3.666667</td>\n",
       "      <td>2.666667</td>\n",
       "      <td>3.000000</td>\n",
       "      <td>4.666667</td>\n",
       "      <td>3.833333</td>\n",
       "      <td>4.333333</td>\n",
       "      <td>4.000000</td>\n",
       "      <td>2</td>\n",
       "    </tr>\n",
       "    <tr>\n",
       "      <th>3</th>\n",
       "      <td>4</td>\n",
       "      <td>0</td>\n",
       "      <td>1</td>\n",
       "      <td>2</td>\n",
       "      <td>2</td>\n",
       "      <td>2</td>\n",
       "      <td>4</td>\n",
       "      <td>6</td>\n",
       "      <td>2</td>\n",
       "      <td>2</td>\n",
       "      <td>1</td>\n",
       "      <td>2.666667</td>\n",
       "      <td>3.000000</td>\n",
       "      <td>2.333333</td>\n",
       "      <td>3.000000</td>\n",
       "      <td>3.333333</td>\n",
       "      <td>3.666667</td>\n",
       "      <td>3.500000</td>\n",
       "      <td>3.833333</td>\n",
       "      <td>1</td>\n",
       "    </tr>\n",
       "    <tr>\n",
       "      <th>4</th>\n",
       "      <td>5</td>\n",
       "      <td>0</td>\n",
       "      <td>0</td>\n",
       "      <td>22</td>\n",
       "      <td>1</td>\n",
       "      <td>4</td>\n",
       "      <td>0</td>\n",
       "      <td>0</td>\n",
       "      <td>2</td>\n",
       "      <td>2</td>\n",
       "      <td>0</td>\n",
       "      <td>3.333333</td>\n",
       "      <td>3.000000</td>\n",
       "      <td>3.000000</td>\n",
       "      <td>3.000000</td>\n",
       "      <td>3.000000</td>\n",
       "      <td>3.166667</td>\n",
       "      <td>3.000000</td>\n",
       "      <td>3.000000</td>\n",
       "      <td>0</td>\n",
       "    </tr>\n",
       "  </tbody>\n",
       "</table>\n",
       "</div>"
      ],
      "text/plain": [
       "   student_id  Age  Gender  ...        R2        K2  style\n",
       "0           1    0       1  ...  3.000000  3.000000      1\n",
       "1           2    0       1  ...  3.166667  3.500000      0\n",
       "2           3    0       0  ...  4.333333  4.000000      2\n",
       "3           4    0       1  ...  3.500000  3.833333      1\n",
       "4           5    0       0  ...  3.000000  3.000000      0\n",
       "\n",
       "[5 rows x 20 columns]"
      ]
     },
     "execution_count": 3,
     "metadata": {
      "tags": []
     },
     "output_type": "execute_result"
    }
   ],
   "source": [
    "from sklearn import preprocessing\n",
    "lf = preprocessing.LabelEncoder()\n",
    "learn[\"learning_style\"] = lf.fit_transform(learn[\"learning_style\"])\n",
    "learn.head()"
   ]
  },
  {
   "cell_type": "code",
   "execution_count": 4,
   "metadata": {
    "colab": {
     "base_uri": "https://localhost:8080/"
    },
    "id": "h4X9d948mgnY",
    "outputId": "d3c9b512-39a0-4fe3-81da-38809ae19ce8"
   },
   "outputs": [
    {
     "data": {
      "text/plain": [
       "(396, 20)"
      ]
     },
     "execution_count": 4,
     "metadata": {
      "tags": []
     },
     "output_type": "execute_result"
    }
   ],
   "source": [
    "learn.shape"
   ]
  },
  {
   "cell_type": "code",
   "execution_count": 5,
   "metadata": {
    "id": "hRPaubVS5fcY"
   },
   "outputs": [],
   "source": [
    "import tensorflow as tf\n",
    "from tensorflow import keras\n",
    "from sklearn.model_selection import train_test_split\n",
    "from sklearn.preprocessing import StandardScaler\n",
    "import seaborn as sns\n",
    "import matplotlib.pyplot as plt\n",
    "import matplotlib as mpl\n",
    "mpl.rcParams['figure.figsize'] = (12, 10)\n",
    "colors = plt.rcParams['axes.prop_cycle'].by_key()['color']\n",
    "\n",
    "from sklearn.metrics import confusion_matrix"
   ]
  },
  {
   "cell_type": "code",
   "execution_count": 6,
   "metadata": {
    "id": "ed39UZLw6R2m"
   },
   "outputs": [],
   "source": [
    "X = learn.drop(['student_id','learning_style'],axis=1)\n",
    "y = learn.pop('learning_style')"
   ]
  },
  {
   "cell_type": "code",
   "execution_count": 7,
   "metadata": {
    "id": "GWmBBn9y6apz"
   },
   "outputs": [],
   "source": [
    "scaler = StandardScaler()\n",
    "X_sc = scaler.fit_transform(X)"
   ]
  },
  {
   "cell_type": "code",
   "execution_count": 8,
   "metadata": {
    "id": "Ax-eMpv46xdQ"
   },
   "outputs": [],
   "source": [
    "X_train, X_test, y_train, y_test = train_test_split(X_sc, y, test_size=0.30, random_state=1, stratify=y)"
   ]
  },
  {
   "cell_type": "code",
   "execution_count": 9,
   "metadata": {
    "id": "90sS2ZgV73z8"
   },
   "outputs": [],
   "source": [
    "y_tr = pd.get_dummies(y_train)\n",
    "y_te = pd.get_dummies(y_test)"
   ]
  },
  {
   "cell_type": "code",
   "execution_count": 10,
   "metadata": {
    "id": "L6wQQc7V65Eh"
   },
   "outputs": [],
   "source": [
    "METRICS = [\n",
    "      keras.metrics.TruePositives(name='tp'),\n",
    "      keras.metrics.FalsePositives(name='fp'),\n",
    "      keras.metrics.TrueNegatives(name='tn'),\n",
    "      keras.metrics.FalseNegatives(name='fn'), \n",
    "      keras.metrics.BinaryAccuracy(name='accuracy'),\n",
    "      keras.metrics.Precision(name='precision'),\n",
    "      keras.metrics.Recall(name='recall'),\n",
    "      keras.metrics.AUC(name='auc'),\n",
    "]\n",
    "\n",
    "def make_model(metrics = METRICS):\n",
    "  model = keras.Sequential([\n",
    "      keras.layers.Dense(18, activation='relu',input_shape=(X_train.shape[-1],)),\n",
    "      keras.layers.Dense(512, activation='relu'),\n",
    "      keras.layers.Dense(18, activation='relu'),\n",
    "      keras.layers.Dense(5, activation='softmax',),])\n",
    "\n",
    "  model.compile(\n",
    "      optimizer=keras.optimizers.SGD(lr=1e-3),\n",
    "      loss=keras.losses.CategoricalCrossentropy(),\n",
    "      metrics=metrics)\n",
    "\n",
    "  return model"
   ]
  },
  {
   "cell_type": "code",
   "execution_count": 11,
   "metadata": {
    "id": "oyk_jrxp7y_t"
   },
   "outputs": [],
   "source": [
    "EPOCHS = 100\n",
    "BATCH_SIZE = 1\n",
    "\n",
    "early_stopping = tf.keras.callbacks.EarlyStopping(\n",
    "    monitor='val_auc', \n",
    "    verbose=1,\n",
    "    patience=10,\n",
    "    mode='max',\n",
    "    restore_best_weights=True)"
   ]
  },
  {
   "cell_type": "code",
   "execution_count": 12,
   "metadata": {
    "colab": {
     "base_uri": "https://localhost:8080/"
    },
    "id": "xOUfWh2t8KK3",
    "outputId": "005490d1-c680-42a8-84ce-79fafca4cd62"
   },
   "outputs": [
    {
     "name": "stdout",
     "output_type": "stream",
     "text": [
      "Model: \"sequential\"\n",
      "_________________________________________________________________\n",
      "Layer (type)                 Output Shape              Param #   \n",
      "=================================================================\n",
      "dense (Dense)                (None, 18)                342       \n",
      "_________________________________________________________________\n",
      "dense_1 (Dense)              (None, 512)               9728      \n",
      "_________________________________________________________________\n",
      "dense_2 (Dense)              (None, 18)                9234      \n",
      "_________________________________________________________________\n",
      "dense_3 (Dense)              (None, 5)                 95        \n",
      "=================================================================\n",
      "Total params: 19,399\n",
      "Trainable params: 19,399\n",
      "Non-trainable params: 0\n",
      "_________________________________________________________________\n"
     ]
    }
   ],
   "source": [
    "model = make_model()\n",
    "model.summary()"
   ]
  },
  {
   "cell_type": "code",
   "execution_count": 13,
   "metadata": {
    "colab": {
     "base_uri": "https://localhost:8080/"
    },
    "id": "GDAjK-wV8NLo",
    "outputId": "21d4ef25-57f4-47b3-f11a-7e8c9cf516e7"
   },
   "outputs": [
    {
     "data": {
      "text/plain": [
       "array([[0.17956257, 0.17712434, 0.20247799, 0.19108903, 0.24974601],\n",
       "       [0.1929779 , 0.19667543, 0.18614745, 0.19474548, 0.22945376],\n",
       "       [0.18931645, 0.16318305, 0.14630978, 0.22800353, 0.27318722],\n",
       "       [0.17031902, 0.20566244, 0.15428308, 0.21333063, 0.25640485],\n",
       "       [0.18847355, 0.18638173, 0.18783876, 0.20930722, 0.22799876],\n",
       "       [0.16491316, 0.20281963, 0.15782142, 0.2044153 , 0.2700305 ],\n",
       "       [0.18609804, 0.19025147, 0.17372668, 0.19793239, 0.25199148],\n",
       "       [0.19899935, 0.17942736, 0.1570605 , 0.20238955, 0.26212323],\n",
       "       [0.16438864, 0.20282641, 0.15975699, 0.20727998, 0.26574802],\n",
       "       [0.19718684, 0.17920603, 0.18109082, 0.21521264, 0.22730371]],\n",
       "      dtype=float32)"
      ]
     },
     "execution_count": 13,
     "metadata": {
      "tags": []
     },
     "output_type": "execute_result"
    }
   ],
   "source": [
    "model.predict(X_train[:10])"
   ]
  },
  {
   "cell_type": "code",
   "execution_count": 14,
   "metadata": {
    "colab": {
     "base_uri": "https://localhost:8080/"
    },
    "id": "tfy8zxOv88D0",
    "outputId": "0ca86a14-a4eb-483e-ce03-32c25c4e8096"
   },
   "outputs": [
    {
     "name": "stdout",
     "output_type": "stream",
     "text": [
      "Loss: 1.7288\n"
     ]
    }
   ],
   "source": [
    "results = model.evaluate(X_train, y_tr, batch_size=BATCH_SIZE, verbose=0)\n",
    "print(\"Loss: {:0.4f}\".format(results[0]))"
   ]
  },
  {
   "cell_type": "code",
   "execution_count": 15,
   "metadata": {
    "colab": {
     "base_uri": "https://localhost:8080/"
    },
    "id": "qgGl5dOR8U_Q",
    "outputId": "7155cf8f-27f9-434f-c3a8-320b0345e346"
   },
   "outputs": [
    {
     "name": "stdout",
     "output_type": "stream",
     "text": [
      "Epoch 1/100\n",
      "277/277 [==============================] - 1s 5ms/step - loss: 1.3729 - tp: 14.0000 - fp: 5.0000 - tn: 2211.0000 - fn: 540.0000 - accuracy: 0.8032 - precision: 0.7368 - recall: 0.0253 - auc: 0.5643 - val_loss: 1.2277 - val_tp: 26.0000 - val_fp: 9.0000 - val_tn: 467.0000 - val_fn: 93.0000 - val_accuracy: 0.8286 - val_precision: 0.7429 - val_recall: 0.2185 - val_auc: 0.8061\n",
      "Epoch 2/100\n",
      "277/277 [==============================] - 0s 2ms/step - loss: 1.1918 - tp: 99.0000 - fp: 56.0000 - tn: 1052.0000 - fn: 178.0000 - accuracy: 0.8310 - precision: 0.6387 - recall: 0.3574 - auc: 0.8058 - val_loss: 1.1673 - val_tp: 52.0000 - val_fp: 29.0000 - val_tn: 447.0000 - val_fn: 67.0000 - val_accuracy: 0.8387 - val_precision: 0.6420 - val_recall: 0.4370 - val_auc: 0.8147\n",
      "Epoch 3/100\n",
      "277/277 [==============================] - 0s 2ms/step - loss: 1.1591 - tp: 142.0000 - fp: 83.0000 - tn: 1025.0000 - fn: 135.0000 - accuracy: 0.8426 - precision: 0.6311 - recall: 0.5126 - auc: 0.8147 - val_loss: 1.1512 - val_tp: 58.0000 - val_fp: 33.0000 - val_tn: 443.0000 - val_fn: 61.0000 - val_accuracy: 0.8420 - val_precision: 0.6374 - val_recall: 0.4874 - val_auc: 0.8199\n",
      "Epoch 4/100\n",
      "277/277 [==============================] - 0s 2ms/step - loss: 1.1419 - tp: 147.0000 - fp: 83.0000 - tn: 1025.0000 - fn: 130.0000 - accuracy: 0.8462 - precision: 0.6391 - recall: 0.5307 - auc: 0.8248 - val_loss: 1.1407 - val_tp: 61.0000 - val_fp: 34.0000 - val_tn: 442.0000 - val_fn: 58.0000 - val_accuracy: 0.8454 - val_precision: 0.6421 - val_recall: 0.5126 - val_auc: 0.8243\n",
      "Epoch 5/100\n",
      "277/277 [==============================] - 0s 2ms/step - loss: 1.1278 - tp: 150.0000 - fp: 88.0000 - tn: 1020.0000 - fn: 127.0000 - accuracy: 0.8448 - precision: 0.6303 - recall: 0.5415 - auc: 0.8297 - val_loss: 1.1340 - val_tp: 63.0000 - val_fp: 35.0000 - val_tn: 441.0000 - val_fn: 56.0000 - val_accuracy: 0.8471 - val_precision: 0.6429 - val_recall: 0.5294 - val_auc: 0.8271\n",
      "Epoch 6/100\n",
      "277/277 [==============================] - 0s 2ms/step - loss: 1.1155 - tp: 152.0000 - fp: 91.0000 - tn: 1017.0000 - fn: 125.0000 - accuracy: 0.8440 - precision: 0.6255 - recall: 0.5487 - auc: 0.8359 - val_loss: 1.1298 - val_tp: 61.0000 - val_fp: 33.0000 - val_tn: 443.0000 - val_fn: 58.0000 - val_accuracy: 0.8471 - val_precision: 0.6489 - val_recall: 0.5126 - val_auc: 0.8297\n",
      "Epoch 7/100\n",
      "277/277 [==============================] - 0s 2ms/step - loss: 1.1035 - tp: 154.0000 - fp: 89.0000 - tn: 1019.0000 - fn: 123.0000 - accuracy: 0.8469 - precision: 0.6337 - recall: 0.5560 - auc: 0.8421 - val_loss: 1.1265 - val_tp: 62.0000 - val_fp: 32.0000 - val_tn: 444.0000 - val_fn: 57.0000 - val_accuracy: 0.8504 - val_precision: 0.6596 - val_recall: 0.5210 - val_auc: 0.8317\n",
      "Epoch 8/100\n",
      "277/277 [==============================] - 0s 2ms/step - loss: 1.0935 - tp: 149.0000 - fp: 84.0000 - tn: 1024.0000 - fn: 128.0000 - accuracy: 0.8469 - precision: 0.6395 - recall: 0.5379 - auc: 0.8452 - val_loss: 1.1215 - val_tp: 62.0000 - val_fp: 34.0000 - val_tn: 442.0000 - val_fn: 57.0000 - val_accuracy: 0.8471 - val_precision: 0.6458 - val_recall: 0.5210 - val_auc: 0.8315\n",
      "Epoch 9/100\n",
      "277/277 [==============================] - 0s 2ms/step - loss: 1.0831 - tp: 154.0000 - fp: 88.0000 - tn: 1020.0000 - fn: 123.0000 - accuracy: 0.8477 - precision: 0.6364 - recall: 0.5560 - auc: 0.8502 - val_loss: 1.1195 - val_tp: 62.0000 - val_fp: 32.0000 - val_tn: 444.0000 - val_fn: 57.0000 - val_accuracy: 0.8504 - val_precision: 0.6596 - val_recall: 0.5210 - val_auc: 0.8342\n",
      "Epoch 10/100\n",
      "277/277 [==============================] - 0s 2ms/step - loss: 1.0742 - tp: 152.0000 - fp: 84.0000 - tn: 1024.0000 - fn: 125.0000 - accuracy: 0.8491 - precision: 0.6441 - recall: 0.5487 - auc: 0.8540 - val_loss: 1.1160 - val_tp: 62.0000 - val_fp: 32.0000 - val_tn: 444.0000 - val_fn: 57.0000 - val_accuracy: 0.8504 - val_precision: 0.6596 - val_recall: 0.5210 - val_auc: 0.8362\n",
      "Epoch 11/100\n",
      "277/277 [==============================] - 1s 2ms/step - loss: 1.0639 - tp: 148.0000 - fp: 79.0000 - tn: 1029.0000 - fn: 129.0000 - accuracy: 0.8498 - precision: 0.6520 - recall: 0.5343 - auc: 0.8579 - val_loss: 1.1127 - val_tp: 62.0000 - val_fp: 34.0000 - val_tn: 442.0000 - val_fn: 57.0000 - val_accuracy: 0.8471 - val_precision: 0.6458 - val_recall: 0.5210 - val_auc: 0.8357\n",
      "Epoch 12/100\n",
      "277/277 [==============================] - 0s 2ms/step - loss: 1.0558 - tp: 156.0000 - fp: 87.0000 - tn: 1021.0000 - fn: 121.0000 - accuracy: 0.8498 - precision: 0.6420 - recall: 0.5632 - auc: 0.8615 - val_loss: 1.1120 - val_tp: 61.0000 - val_fp: 32.0000 - val_tn: 444.0000 - val_fn: 58.0000 - val_accuracy: 0.8487 - val_precision: 0.6559 - val_recall: 0.5126 - val_auc: 0.8375\n",
      "Epoch 13/100\n",
      "277/277 [==============================] - 0s 2ms/step - loss: 1.0475 - tp: 156.0000 - fp: 81.0000 - tn: 1027.0000 - fn: 121.0000 - accuracy: 0.8542 - precision: 0.6582 - recall: 0.5632 - auc: 0.8644 - val_loss: 1.1107 - val_tp: 61.0000 - val_fp: 32.0000 - val_tn: 444.0000 - val_fn: 58.0000 - val_accuracy: 0.8487 - val_precision: 0.6559 - val_recall: 0.5126 - val_auc: 0.8394\n",
      "Epoch 14/100\n",
      "277/277 [==============================] - 0s 2ms/step - loss: 1.0391 - tp: 153.0000 - fp: 78.0000 - tn: 1030.0000 - fn: 124.0000 - accuracy: 0.8542 - precision: 0.6623 - recall: 0.5523 - auc: 0.8667 - val_loss: 1.1092 - val_tp: 61.0000 - val_fp: 32.0000 - val_tn: 444.0000 - val_fn: 58.0000 - val_accuracy: 0.8487 - val_precision: 0.6559 - val_recall: 0.5126 - val_auc: 0.8399\n",
      "Epoch 15/100\n",
      "277/277 [==============================] - 1s 2ms/step - loss: 1.0312 - tp: 152.0000 - fp: 72.0000 - tn: 1036.0000 - fn: 125.0000 - accuracy: 0.8578 - precision: 0.6786 - recall: 0.5487 - auc: 0.8707 - val_loss: 1.1072 - val_tp: 62.0000 - val_fp: 32.0000 - val_tn: 444.0000 - val_fn: 57.0000 - val_accuracy: 0.8504 - val_precision: 0.6596 - val_recall: 0.5210 - val_auc: 0.8401\n",
      "Epoch 16/100\n",
      "277/277 [==============================] - 0s 2ms/step - loss: 1.0227 - tp: 150.0000 - fp: 72.0000 - tn: 1036.0000 - fn: 127.0000 - accuracy: 0.8563 - precision: 0.6757 - recall: 0.5415 - auc: 0.8731 - val_loss: 1.1055 - val_tp: 66.0000 - val_fp: 33.0000 - val_tn: 443.0000 - val_fn: 53.0000 - val_accuracy: 0.8555 - val_precision: 0.6667 - val_recall: 0.5546 - val_auc: 0.8400\n",
      "Epoch 17/100\n",
      "277/277 [==============================] - 0s 2ms/step - loss: 1.0150 - tp: 149.0000 - fp: 70.0000 - tn: 1038.0000 - fn: 128.0000 - accuracy: 0.8570 - precision: 0.6804 - recall: 0.5379 - auc: 0.8749 - val_loss: 1.1045 - val_tp: 66.0000 - val_fp: 33.0000 - val_tn: 443.0000 - val_fn: 53.0000 - val_accuracy: 0.8555 - val_precision: 0.6667 - val_recall: 0.5546 - val_auc: 0.8409\n",
      "Epoch 18/100\n",
      "277/277 [==============================] - 0s 2ms/step - loss: 1.0074 - tp: 152.0000 - fp: 76.0000 - tn: 1032.0000 - fn: 125.0000 - accuracy: 0.8549 - precision: 0.6667 - recall: 0.5487 - auc: 0.8772 - val_loss: 1.1037 - val_tp: 66.0000 - val_fp: 32.0000 - val_tn: 444.0000 - val_fn: 53.0000 - val_accuracy: 0.8571 - val_precision: 0.6735 - val_recall: 0.5546 - val_auc: 0.8416\n",
      "Epoch 19/100\n",
      "277/277 [==============================] - 1s 2ms/step - loss: 0.9996 - tp: 150.0000 - fp: 70.0000 - tn: 1038.0000 - fn: 127.0000 - accuracy: 0.8578 - precision: 0.6818 - recall: 0.5415 - auc: 0.8797 - val_loss: 1.1030 - val_tp: 66.0000 - val_fp: 32.0000 - val_tn: 444.0000 - val_fn: 53.0000 - val_accuracy: 0.8571 - val_precision: 0.6735 - val_recall: 0.5546 - val_auc: 0.8414\n",
      "Epoch 20/100\n",
      "277/277 [==============================] - 0s 2ms/step - loss: 0.9910 - tp: 148.0000 - fp: 71.0000 - tn: 1037.0000 - fn: 129.0000 - accuracy: 0.8556 - precision: 0.6758 - recall: 0.5343 - auc: 0.8830 - val_loss: 1.1027 - val_tp: 66.0000 - val_fp: 32.0000 - val_tn: 444.0000 - val_fn: 53.0000 - val_accuracy: 0.8571 - val_precision: 0.6735 - val_recall: 0.5546 - val_auc: 0.8416\n",
      "Epoch 21/100\n",
      "277/277 [==============================] - 1s 2ms/step - loss: 0.9841 - tp: 154.0000 - fp: 74.0000 - tn: 1034.0000 - fn: 123.0000 - accuracy: 0.8578 - precision: 0.6754 - recall: 0.5560 - auc: 0.8835 - val_loss: 1.1024 - val_tp: 65.0000 - val_fp: 32.0000 - val_tn: 444.0000 - val_fn: 54.0000 - val_accuracy: 0.8555 - val_precision: 0.6701 - val_recall: 0.5462 - val_auc: 0.8427\n",
      "Epoch 22/100\n",
      "277/277 [==============================] - 0s 2ms/step - loss: 0.9754 - tp: 151.0000 - fp: 71.0000 - tn: 1037.0000 - fn: 126.0000 - accuracy: 0.8578 - precision: 0.6802 - recall: 0.5451 - auc: 0.8865 - val_loss: 1.1028 - val_tp: 65.0000 - val_fp: 32.0000 - val_tn: 444.0000 - val_fn: 54.0000 - val_accuracy: 0.8555 - val_precision: 0.6701 - val_recall: 0.5462 - val_auc: 0.8424\n",
      "Epoch 23/100\n",
      "277/277 [==============================] - 0s 2ms/step - loss: 0.9658 - tp: 145.0000 - fp: 69.0000 - tn: 1039.0000 - fn: 132.0000 - accuracy: 0.8549 - precision: 0.6776 - recall: 0.5235 - auc: 0.8896 - val_loss: 1.1035 - val_tp: 67.0000 - val_fp: 32.0000 - val_tn: 444.0000 - val_fn: 52.0000 - val_accuracy: 0.8588 - val_precision: 0.6768 - val_recall: 0.5630 - val_auc: 0.8422\n",
      "Epoch 24/100\n",
      "277/277 [==============================] - 0s 2ms/step - loss: 0.9611 - tp: 154.0000 - fp: 71.0000 - tn: 1037.0000 - fn: 123.0000 - accuracy: 0.8599 - precision: 0.6844 - recall: 0.5560 - auc: 0.8888 - val_loss: 1.1026 - val_tp: 64.0000 - val_fp: 32.0000 - val_tn: 444.0000 - val_fn: 55.0000 - val_accuracy: 0.8538 - val_precision: 0.6667 - val_recall: 0.5378 - val_auc: 0.8432\n",
      "Epoch 25/100\n",
      "277/277 [==============================] - 0s 2ms/step - loss: 0.9529 - tp: 152.0000 - fp: 69.0000 - tn: 1039.0000 - fn: 125.0000 - accuracy: 0.8599 - precision: 0.6878 - recall: 0.5487 - auc: 0.8908 - val_loss: 1.1022 - val_tp: 64.0000 - val_fp: 32.0000 - val_tn: 444.0000 - val_fn: 55.0000 - val_accuracy: 0.8538 - val_precision: 0.6667 - val_recall: 0.5378 - val_auc: 0.8441\n",
      "Epoch 26/100\n",
      "277/277 [==============================] - 0s 2ms/step - loss: 0.9448 - tp: 148.0000 - fp: 66.0000 - tn: 1042.0000 - fn: 129.0000 - accuracy: 0.8592 - precision: 0.6916 - recall: 0.5343 - auc: 0.8938 - val_loss: 1.1029 - val_tp: 64.0000 - val_fp: 32.0000 - val_tn: 444.0000 - val_fn: 55.0000 - val_accuracy: 0.8538 - val_precision: 0.6667 - val_recall: 0.5378 - val_auc: 0.8444\n",
      "Epoch 27/100\n",
      "277/277 [==============================] - 1s 2ms/step - loss: 0.9378 - tp: 150.0000 - fp: 74.0000 - tn: 1034.0000 - fn: 127.0000 - accuracy: 0.8549 - precision: 0.6696 - recall: 0.5415 - auc: 0.8951 - val_loss: 1.1022 - val_tp: 64.0000 - val_fp: 32.0000 - val_tn: 444.0000 - val_fn: 55.0000 - val_accuracy: 0.8538 - val_precision: 0.6667 - val_recall: 0.5378 - val_auc: 0.8446\n",
      "Epoch 28/100\n",
      "277/277 [==============================] - 0s 2ms/step - loss: 0.9295 - tp: 150.0000 - fp: 69.0000 - tn: 1039.0000 - fn: 127.0000 - accuracy: 0.8585 - precision: 0.6849 - recall: 0.5415 - auc: 0.8975 - val_loss: 1.1025 - val_tp: 64.0000 - val_fp: 35.0000 - val_tn: 441.0000 - val_fn: 55.0000 - val_accuracy: 0.8487 - val_precision: 0.6465 - val_recall: 0.5378 - val_auc: 0.8443\n",
      "Epoch 29/100\n",
      "277/277 [==============================] - 0s 2ms/step - loss: 0.9222 - tp: 151.0000 - fp: 70.0000 - tn: 1038.0000 - fn: 126.0000 - accuracy: 0.8585 - precision: 0.6833 - recall: 0.5451 - auc: 0.8991 - val_loss: 1.1012 - val_tp: 63.0000 - val_fp: 33.0000 - val_tn: 443.0000 - val_fn: 56.0000 - val_accuracy: 0.8504 - val_precision: 0.6562 - val_recall: 0.5294 - val_auc: 0.8450\n",
      "Epoch 30/100\n",
      "277/277 [==============================] - 0s 2ms/step - loss: 0.9144 - tp: 152.0000 - fp: 68.0000 - tn: 1040.0000 - fn: 125.0000 - accuracy: 0.8607 - precision: 0.6909 - recall: 0.5487 - auc: 0.9015 - val_loss: 1.1014 - val_tp: 63.0000 - val_fp: 32.0000 - val_tn: 444.0000 - val_fn: 56.0000 - val_accuracy: 0.8521 - val_precision: 0.6632 - val_recall: 0.5294 - val_auc: 0.8456\n",
      "Epoch 31/100\n",
      "277/277 [==============================] - 0s 2ms/step - loss: 0.9066 - tp: 151.0000 - fp: 68.0000 - tn: 1040.0000 - fn: 126.0000 - accuracy: 0.8599 - precision: 0.6895 - recall: 0.5451 - auc: 0.9030 - val_loss: 1.1017 - val_tp: 64.0000 - val_fp: 35.0000 - val_tn: 441.0000 - val_fn: 55.0000 - val_accuracy: 0.8487 - val_precision: 0.6465 - val_recall: 0.5378 - val_auc: 0.8461\n",
      "Epoch 32/100\n",
      "277/277 [==============================] - 0s 2ms/step - loss: 0.8986 - tp: 150.0000 - fp: 66.0000 - tn: 1042.0000 - fn: 127.0000 - accuracy: 0.8607 - precision: 0.6944 - recall: 0.5415 - auc: 0.9035 - val_loss: 1.1019 - val_tp: 64.0000 - val_fp: 37.0000 - val_tn: 439.0000 - val_fn: 55.0000 - val_accuracy: 0.8454 - val_precision: 0.6337 - val_recall: 0.5378 - val_auc: 0.8462\n",
      "Epoch 33/100\n",
      "277/277 [==============================] - 0s 2ms/step - loss: 0.8898 - tp: 154.0000 - fp: 68.0000 - tn: 1040.0000 - fn: 123.0000 - accuracy: 0.8621 - precision: 0.6937 - recall: 0.5560 - auc: 0.9062 - val_loss: 1.1022 - val_tp: 63.0000 - val_fp: 36.0000 - val_tn: 440.0000 - val_fn: 56.0000 - val_accuracy: 0.8454 - val_precision: 0.6364 - val_recall: 0.5294 - val_auc: 0.8464\n",
      "Epoch 34/100\n",
      "277/277 [==============================] - 0s 2ms/step - loss: 0.8825 - tp: 151.0000 - fp: 66.0000 - tn: 1042.0000 - fn: 126.0000 - accuracy: 0.8614 - precision: 0.6959 - recall: 0.5451 - auc: 0.9081 - val_loss: 1.1016 - val_tp: 63.0000 - val_fp: 36.0000 - val_tn: 440.0000 - val_fn: 56.0000 - val_accuracy: 0.8454 - val_precision: 0.6364 - val_recall: 0.5294 - val_auc: 0.8465\n",
      "Epoch 35/100\n",
      "277/277 [==============================] - 0s 2ms/step - loss: 0.8722 - tp: 156.0000 - fp: 70.0000 - tn: 1038.0000 - fn: 121.0000 - accuracy: 0.8621 - precision: 0.6903 - recall: 0.5632 - auc: 0.9091 - val_loss: 1.1027 - val_tp: 59.0000 - val_fp: 32.0000 - val_tn: 444.0000 - val_fn: 60.0000 - val_accuracy: 0.8454 - val_precision: 0.6484 - val_recall: 0.4958 - val_auc: 0.8467\n",
      "Epoch 36/100\n",
      "277/277 [==============================] - 0s 2ms/step - loss: 0.8664 - tp: 155.0000 - fp: 64.0000 - tn: 1044.0000 - fn: 122.0000 - accuracy: 0.8657 - precision: 0.7078 - recall: 0.5596 - auc: 0.9115 - val_loss: 1.1019 - val_tp: 63.0000 - val_fp: 32.0000 - val_tn: 444.0000 - val_fn: 56.0000 - val_accuracy: 0.8521 - val_precision: 0.6632 - val_recall: 0.5294 - val_auc: 0.8467\n",
      "Epoch 37/100\n",
      "277/277 [==============================] - 0s 2ms/step - loss: 0.8568 - tp: 155.0000 - fp: 68.0000 - tn: 1040.0000 - fn: 122.0000 - accuracy: 0.8628 - precision: 0.6951 - recall: 0.5596 - auc: 0.9135 - val_loss: 1.1030 - val_tp: 61.0000 - val_fp: 32.0000 - val_tn: 444.0000 - val_fn: 58.0000 - val_accuracy: 0.8487 - val_precision: 0.6559 - val_recall: 0.5126 - val_auc: 0.8468\n",
      "Epoch 38/100\n",
      "277/277 [==============================] - 1s 2ms/step - loss: 0.8490 - tp: 157.0000 - fp: 57.0000 - tn: 1051.0000 - fn: 120.0000 - accuracy: 0.8722 - precision: 0.7336 - recall: 0.5668 - auc: 0.9157 - val_loss: 1.1036 - val_tp: 64.0000 - val_fp: 36.0000 - val_tn: 440.0000 - val_fn: 55.0000 - val_accuracy: 0.8471 - val_precision: 0.6400 - val_recall: 0.5378 - val_auc: 0.8473\n",
      "Epoch 39/100\n",
      "277/277 [==============================] - 0s 2ms/step - loss: 0.8400 - tp: 158.0000 - fp: 62.0000 - tn: 1046.0000 - fn: 119.0000 - accuracy: 0.8693 - precision: 0.7182 - recall: 0.5704 - auc: 0.9169 - val_loss: 1.1076 - val_tp: 64.0000 - val_fp: 37.0000 - val_tn: 439.0000 - val_fn: 55.0000 - val_accuracy: 0.8454 - val_precision: 0.6337 - val_recall: 0.5378 - val_auc: 0.8473\n",
      "Epoch 40/100\n",
      "277/277 [==============================] - 0s 2ms/step - loss: 0.8311 - tp: 159.0000 - fp: 61.0000 - tn: 1047.0000 - fn: 118.0000 - accuracy: 0.8708 - precision: 0.7227 - recall: 0.5740 - auc: 0.9187 - val_loss: 1.1078 - val_tp: 64.0000 - val_fp: 37.0000 - val_tn: 439.0000 - val_fn: 55.0000 - val_accuracy: 0.8454 - val_precision: 0.6337 - val_recall: 0.5378 - val_auc: 0.8467\n",
      "Epoch 41/100\n",
      "277/277 [==============================] - 0s 2ms/step - loss: 0.8231 - tp: 158.0000 - fp: 60.0000 - tn: 1048.0000 - fn: 119.0000 - accuracy: 0.8708 - precision: 0.7248 - recall: 0.5704 - auc: 0.9200 - val_loss: 1.1037 - val_tp: 63.0000 - val_fp: 36.0000 - val_tn: 440.0000 - val_fn: 56.0000 - val_accuracy: 0.8454 - val_precision: 0.6364 - val_recall: 0.5294 - val_auc: 0.8474\n",
      "Epoch 42/100\n",
      "277/277 [==============================] - 0s 2ms/step - loss: 0.8138 - tp: 157.0000 - fp: 58.0000 - tn: 1050.0000 - fn: 120.0000 - accuracy: 0.8715 - precision: 0.7302 - recall: 0.5668 - auc: 0.9229 - val_loss: 1.1030 - val_tp: 63.0000 - val_fp: 38.0000 - val_tn: 438.0000 - val_fn: 56.0000 - val_accuracy: 0.8420 - val_precision: 0.6238 - val_recall: 0.5294 - val_auc: 0.8489\n",
      "Epoch 43/100\n",
      "277/277 [==============================] - 0s 2ms/step - loss: 0.8044 - tp: 164.0000 - fp: 59.0000 - tn: 1049.0000 - fn: 113.0000 - accuracy: 0.8758 - precision: 0.7354 - recall: 0.5921 - auc: 0.9240 - val_loss: 1.1030 - val_tp: 63.0000 - val_fp: 39.0000 - val_tn: 437.0000 - val_fn: 56.0000 - val_accuracy: 0.8403 - val_precision: 0.6176 - val_recall: 0.5294 - val_auc: 0.8493\n",
      "Epoch 44/100\n",
      "277/277 [==============================] - 1s 2ms/step - loss: 0.7943 - tp: 163.0000 - fp: 62.0000 - tn: 1046.0000 - fn: 114.0000 - accuracy: 0.8729 - precision: 0.7244 - recall: 0.5884 - auc: 0.9249 - val_loss: 1.1021 - val_tp: 58.0000 - val_fp: 31.0000 - val_tn: 445.0000 - val_fn: 61.0000 - val_accuracy: 0.8454 - val_precision: 0.6517 - val_recall: 0.4874 - val_auc: 0.8490\n",
      "Epoch 45/100\n",
      "277/277 [==============================] - 0s 2ms/step - loss: 0.7869 - tp: 165.0000 - fp: 48.0000 - tn: 1060.0000 - fn: 112.0000 - accuracy: 0.8845 - precision: 0.7746 - recall: 0.5957 - auc: 0.9281 - val_loss: 1.1036 - val_tp: 62.0000 - val_fp: 38.0000 - val_tn: 438.0000 - val_fn: 57.0000 - val_accuracy: 0.8403 - val_precision: 0.6200 - val_recall: 0.5210 - val_auc: 0.8497\n",
      "Epoch 46/100\n",
      "277/277 [==============================] - 0s 2ms/step - loss: 0.7740 - tp: 166.0000 - fp: 57.0000 - tn: 1051.0000 - fn: 111.0000 - accuracy: 0.8787 - precision: 0.7444 - recall: 0.5993 - auc: 0.9295 - val_loss: 1.1026 - val_tp: 59.0000 - val_fp: 32.0000 - val_tn: 444.0000 - val_fn: 60.0000 - val_accuracy: 0.8454 - val_precision: 0.6484 - val_recall: 0.4958 - val_auc: 0.8500\n",
      "Epoch 47/100\n",
      "277/277 [==============================] - 0s 2ms/step - loss: 0.7668 - tp: 170.0000 - fp: 49.0000 - tn: 1059.0000 - fn: 107.0000 - accuracy: 0.8874 - precision: 0.7763 - recall: 0.6137 - auc: 0.9307 - val_loss: 1.1037 - val_tp: 58.0000 - val_fp: 31.0000 - val_tn: 445.0000 - val_fn: 61.0000 - val_accuracy: 0.8454 - val_precision: 0.6517 - val_recall: 0.4874 - val_auc: 0.8489\n",
      "Epoch 48/100\n",
      "277/277 [==============================] - 1s 2ms/step - loss: 0.7559 - tp: 171.0000 - fp: 53.0000 - tn: 1055.0000 - fn: 106.0000 - accuracy: 0.8852 - precision: 0.7634 - recall: 0.6173 - auc: 0.9336 - val_loss: 1.1024 - val_tp: 59.0000 - val_fp: 32.0000 - val_tn: 444.0000 - val_fn: 60.0000 - val_accuracy: 0.8454 - val_precision: 0.6484 - val_recall: 0.4958 - val_auc: 0.8509\n",
      "Epoch 49/100\n",
      "277/277 [==============================] - 0s 2ms/step - loss: 0.7483 - tp: 172.0000 - fp: 48.0000 - tn: 1060.0000 - fn: 105.0000 - accuracy: 0.8895 - precision: 0.7818 - recall: 0.6209 - auc: 0.9350 - val_loss: 1.1033 - val_tp: 63.0000 - val_fp: 37.0000 - val_tn: 439.0000 - val_fn: 56.0000 - val_accuracy: 0.8437 - val_precision: 0.6300 - val_recall: 0.5294 - val_auc: 0.8510\n",
      "Epoch 50/100\n",
      "277/277 [==============================] - 0s 2ms/step - loss: 0.7375 - tp: 172.0000 - fp: 47.0000 - tn: 1061.0000 - fn: 105.0000 - accuracy: 0.8903 - precision: 0.7854 - recall: 0.6209 - auc: 0.9360 - val_loss: 1.1040 - val_tp: 59.0000 - val_fp: 34.0000 - val_tn: 442.0000 - val_fn: 60.0000 - val_accuracy: 0.8420 - val_precision: 0.6344 - val_recall: 0.4958 - val_auc: 0.8499\n",
      "Epoch 51/100\n",
      "277/277 [==============================] - 0s 2ms/step - loss: 0.7279 - tp: 172.0000 - fp: 44.0000 - tn: 1064.0000 - fn: 105.0000 - accuracy: 0.8924 - precision: 0.7963 - recall: 0.6209 - auc: 0.9388 - val_loss: 1.1032 - val_tp: 61.0000 - val_fp: 35.0000 - val_tn: 441.0000 - val_fn: 58.0000 - val_accuracy: 0.8437 - val_precision: 0.6354 - val_recall: 0.5126 - val_auc: 0.8515\n",
      "Epoch 52/100\n",
      "277/277 [==============================] - 0s 2ms/step - loss: 0.7186 - tp: 173.0000 - fp: 46.0000 - tn: 1062.0000 - fn: 104.0000 - accuracy: 0.8917 - precision: 0.7900 - recall: 0.6245 - auc: 0.9403 - val_loss: 1.1026 - val_tp: 63.0000 - val_fp: 37.0000 - val_tn: 439.0000 - val_fn: 56.0000 - val_accuracy: 0.8437 - val_precision: 0.6300 - val_recall: 0.5294 - val_auc: 0.8526\n",
      "Epoch 53/100\n",
      "277/277 [==============================] - 0s 2ms/step - loss: 0.7075 - tp: 178.0000 - fp: 41.0000 - tn: 1067.0000 - fn: 99.0000 - accuracy: 0.8989 - precision: 0.8128 - recall: 0.6426 - auc: 0.9418 - val_loss: 1.1048 - val_tp: 62.0000 - val_fp: 36.0000 - val_tn: 440.0000 - val_fn: 57.0000 - val_accuracy: 0.8437 - val_precision: 0.6327 - val_recall: 0.5210 - val_auc: 0.8526\n",
      "Epoch 54/100\n",
      "277/277 [==============================] - 0s 2ms/step - loss: 0.6955 - tp: 178.0000 - fp: 47.0000 - tn: 1061.0000 - fn: 99.0000 - accuracy: 0.8946 - precision: 0.7911 - recall: 0.6426 - auc: 0.9436 - val_loss: 1.1035 - val_tp: 59.0000 - val_fp: 31.0000 - val_tn: 445.0000 - val_fn: 60.0000 - val_accuracy: 0.8471 - val_precision: 0.6556 - val_recall: 0.4958 - val_auc: 0.8527\n",
      "Epoch 55/100\n",
      "277/277 [==============================] - 0s 2ms/step - loss: 0.6885 - tp: 178.0000 - fp: 39.0000 - tn: 1069.0000 - fn: 99.0000 - accuracy: 0.9004 - precision: 0.8203 - recall: 0.6426 - auc: 0.9450 - val_loss: 1.1056 - val_tp: 64.0000 - val_fp: 36.0000 - val_tn: 440.0000 - val_fn: 55.0000 - val_accuracy: 0.8471 - val_precision: 0.6400 - val_recall: 0.5378 - val_auc: 0.8526\n",
      "Epoch 56/100\n",
      "277/277 [==============================] - 0s 2ms/step - loss: 0.6783 - tp: 181.0000 - fp: 40.0000 - tn: 1068.0000 - fn: 96.0000 - accuracy: 0.9018 - precision: 0.8190 - recall: 0.6534 - auc: 0.9477 - val_loss: 1.1071 - val_tp: 66.0000 - val_fp: 36.0000 - val_tn: 440.0000 - val_fn: 53.0000 - val_accuracy: 0.8504 - val_precision: 0.6471 - val_recall: 0.5546 - val_auc: 0.8532\n",
      "Epoch 57/100\n",
      "277/277 [==============================] - 0s 2ms/step - loss: 0.6686 - tp: 185.0000 - fp: 40.0000 - tn: 1068.0000 - fn: 92.0000 - accuracy: 0.9047 - precision: 0.8222 - recall: 0.6679 - auc: 0.9488 - val_loss: 1.1092 - val_tp: 65.0000 - val_fp: 37.0000 - val_tn: 439.0000 - val_fn: 54.0000 - val_accuracy: 0.8471 - val_precision: 0.6373 - val_recall: 0.5462 - val_auc: 0.8534\n",
      "Epoch 58/100\n",
      "277/277 [==============================] - 0s 2ms/step - loss: 0.6535 - tp: 189.0000 - fp: 36.0000 - tn: 1072.0000 - fn: 88.0000 - accuracy: 0.9105 - precision: 0.8400 - recall: 0.6823 - auc: 0.9503 - val_loss: 1.1127 - val_tp: 57.0000 - val_fp: 30.0000 - val_tn: 446.0000 - val_fn: 62.0000 - val_accuracy: 0.8454 - val_precision: 0.6552 - val_recall: 0.4790 - val_auc: 0.8515\n",
      "Epoch 59/100\n",
      "277/277 [==============================] - 0s 2ms/step - loss: 0.6438 - tp: 181.0000 - fp: 31.0000 - tn: 1077.0000 - fn: 96.0000 - accuracy: 0.9083 - precision: 0.8538 - recall: 0.6534 - auc: 0.9543 - val_loss: 1.1186 - val_tp: 70.0000 - val_fp: 39.0000 - val_tn: 437.0000 - val_fn: 49.0000 - val_accuracy: 0.8521 - val_precision: 0.6422 - val_recall: 0.5882 - val_auc: 0.8552\n",
      "Epoch 60/100\n",
      "277/277 [==============================] - 0s 2ms/step - loss: 0.6385 - tp: 187.0000 - fp: 36.0000 - tn: 1072.0000 - fn: 90.0000 - accuracy: 0.9090 - precision: 0.8386 - recall: 0.6751 - auc: 0.9529 - val_loss: 1.1195 - val_tp: 68.0000 - val_fp: 39.0000 - val_tn: 437.0000 - val_fn: 51.0000 - val_accuracy: 0.8487 - val_precision: 0.6355 - val_recall: 0.5714 - val_auc: 0.8537\n",
      "Epoch 61/100\n",
      "277/277 [==============================] - 0s 2ms/step - loss: 0.6280 - tp: 186.0000 - fp: 39.0000 - tn: 1069.0000 - fn: 91.0000 - accuracy: 0.9061 - precision: 0.8267 - recall: 0.6715 - auc: 0.9543 - val_loss: 1.1129 - val_tp: 63.0000 - val_fp: 31.0000 - val_tn: 445.0000 - val_fn: 56.0000 - val_accuracy: 0.8538 - val_precision: 0.6702 - val_recall: 0.5294 - val_auc: 0.8530\n",
      "Epoch 62/100\n",
      "277/277 [==============================] - 0s 2ms/step - loss: 0.6185 - tp: 192.0000 - fp: 34.0000 - tn: 1074.0000 - fn: 85.0000 - accuracy: 0.9141 - precision: 0.8496 - recall: 0.6931 - auc: 0.9567 - val_loss: 1.1120 - val_tp: 64.0000 - val_fp: 32.0000 - val_tn: 444.0000 - val_fn: 55.0000 - val_accuracy: 0.8538 - val_precision: 0.6667 - val_recall: 0.5378 - val_auc: 0.8535\n",
      "Epoch 63/100\n",
      "277/277 [==============================] - 0s 2ms/step - loss: 0.6079 - tp: 191.0000 - fp: 32.0000 - tn: 1076.0000 - fn: 86.0000 - accuracy: 0.9148 - precision: 0.8565 - recall: 0.6895 - auc: 0.9588 - val_loss: 1.1151 - val_tp: 68.0000 - val_fp: 34.0000 - val_tn: 442.0000 - val_fn: 51.0000 - val_accuracy: 0.8571 - val_precision: 0.6667 - val_recall: 0.5714 - val_auc: 0.8551\n",
      "Epoch 64/100\n",
      "277/277 [==============================] - 0s 2ms/step - loss: 0.5980 - tp: 193.0000 - fp: 33.0000 - tn: 1075.0000 - fn: 84.0000 - accuracy: 0.9155 - precision: 0.8540 - recall: 0.6968 - auc: 0.9599 - val_loss: 1.1194 - val_tp: 63.0000 - val_fp: 32.0000 - val_tn: 444.0000 - val_fn: 56.0000 - val_accuracy: 0.8521 - val_precision: 0.6632 - val_recall: 0.5294 - val_auc: 0.8530\n",
      "Epoch 65/100\n",
      "277/277 [==============================] - 0s 2ms/step - loss: 0.5879 - tp: 197.0000 - fp: 34.0000 - tn: 1074.0000 - fn: 80.0000 - accuracy: 0.9177 - precision: 0.8528 - recall: 0.7112 - auc: 0.9614 - val_loss: 1.1188 - val_tp: 63.0000 - val_fp: 33.0000 - val_tn: 443.0000 - val_fn: 56.0000 - val_accuracy: 0.8504 - val_precision: 0.6562 - val_recall: 0.5294 - val_auc: 0.8536\n",
      "Epoch 66/100\n",
      "277/277 [==============================] - 0s 2ms/step - loss: 0.5784 - tp: 195.0000 - fp: 34.0000 - tn: 1074.0000 - fn: 82.0000 - accuracy: 0.9162 - precision: 0.8515 - recall: 0.7040 - auc: 0.9630 - val_loss: 1.1274 - val_tp: 64.0000 - val_fp: 32.0000 - val_tn: 444.0000 - val_fn: 55.0000 - val_accuracy: 0.8538 - val_precision: 0.6667 - val_recall: 0.5378 - val_auc: 0.8524\n",
      "Epoch 67/100\n",
      "277/277 [==============================] - 0s 2ms/step - loss: 0.5683 - tp: 199.0000 - fp: 33.0000 - tn: 1075.0000 - fn: 78.0000 - accuracy: 0.9199 - precision: 0.8578 - recall: 0.7184 - auc: 0.9644 - val_loss: 1.1284 - val_tp: 63.0000 - val_fp: 32.0000 - val_tn: 444.0000 - val_fn: 56.0000 - val_accuracy: 0.8521 - val_precision: 0.6632 - val_recall: 0.5294 - val_auc: 0.8541\n",
      "Epoch 68/100\n",
      "277/277 [==============================] - 0s 2ms/step - loss: 0.5521 - tp: 201.0000 - fp: 31.0000 - tn: 1077.0000 - fn: 76.0000 - accuracy: 0.9227 - precision: 0.8664 - recall: 0.7256 - auc: 0.9665 - val_loss: 1.1413 - val_tp: 67.0000 - val_fp: 37.0000 - val_tn: 439.0000 - val_fn: 52.0000 - val_accuracy: 0.8504 - val_precision: 0.6442 - val_recall: 0.5630 - val_auc: 0.8554\n",
      "Epoch 69/100\n",
      "277/277 [==============================] - 0s 2ms/step - loss: 0.5514 - tp: 203.0000 - fp: 36.0000 - tn: 1072.0000 - fn: 74.0000 - accuracy: 0.9206 - precision: 0.8494 - recall: 0.7329 - auc: 0.9661 - val_loss: 1.1293 - val_tp: 64.0000 - val_fp: 31.0000 - val_tn: 445.0000 - val_fn: 55.0000 - val_accuracy: 0.8555 - val_precision: 0.6737 - val_recall: 0.5378 - val_auc: 0.8544\n",
      "Epoch 70/100\n",
      "277/277 [==============================] - 0s 2ms/step - loss: 0.5372 - tp: 208.0000 - fp: 29.0000 - tn: 1079.0000 - fn: 69.0000 - accuracy: 0.9292 - precision: 0.8776 - recall: 0.7509 - auc: 0.9689 - val_loss: 1.1474 - val_tp: 69.0000 - val_fp: 41.0000 - val_tn: 435.0000 - val_fn: 50.0000 - val_accuracy: 0.8471 - val_precision: 0.6273 - val_recall: 0.5798 - val_auc: 0.8584\n",
      "Epoch 71/100\n",
      "277/277 [==============================] - 1s 2ms/step - loss: 0.5330 - tp: 213.0000 - fp: 32.0000 - tn: 1076.0000 - fn: 64.0000 - accuracy: 0.9307 - precision: 0.8694 - recall: 0.7690 - auc: 0.9682 - val_loss: 1.1428 - val_tp: 69.0000 - val_fp: 37.0000 - val_tn: 439.0000 - val_fn: 50.0000 - val_accuracy: 0.8538 - val_precision: 0.6509 - val_recall: 0.5798 - val_auc: 0.8569\n",
      "Epoch 72/100\n",
      "277/277 [==============================] - 0s 2ms/step - loss: 0.5186 - tp: 208.0000 - fp: 31.0000 - tn: 1077.0000 - fn: 69.0000 - accuracy: 0.9278 - precision: 0.8703 - recall: 0.7509 - auc: 0.9704 - val_loss: 1.1399 - val_tp: 65.0000 - val_fp: 35.0000 - val_tn: 441.0000 - val_fn: 54.0000 - val_accuracy: 0.8504 - val_precision: 0.6500 - val_recall: 0.5462 - val_auc: 0.8541\n",
      "Epoch 73/100\n",
      "277/277 [==============================] - 1s 2ms/step - loss: 0.5157 - tp: 213.0000 - fp: 29.0000 - tn: 1079.0000 - fn: 64.0000 - accuracy: 0.9329 - precision: 0.8802 - recall: 0.7690 - auc: 0.9712 - val_loss: 1.1442 - val_tp: 67.0000 - val_fp: 36.0000 - val_tn: 440.0000 - val_fn: 52.0000 - val_accuracy: 0.8521 - val_precision: 0.6505 - val_recall: 0.5630 - val_auc: 0.8550\n",
      "Epoch 74/100\n",
      "277/277 [==============================] - 1s 2ms/step - loss: 0.4988 - tp: 212.0000 - fp: 30.0000 - tn: 1078.0000 - fn: 65.0000 - accuracy: 0.9314 - precision: 0.8760 - recall: 0.7653 - auc: 0.9732 - val_loss: 1.1513 - val_tp: 65.0000 - val_fp: 36.0000 - val_tn: 440.0000 - val_fn: 54.0000 - val_accuracy: 0.8487 - val_precision: 0.6436 - val_recall: 0.5462 - val_auc: 0.8540\n",
      "Epoch 75/100\n",
      "277/277 [==============================] - 0s 2ms/step - loss: 0.4985 - tp: 212.0000 - fp: 31.0000 - tn: 1077.0000 - fn: 65.0000 - accuracy: 0.9307 - precision: 0.8724 - recall: 0.7653 - auc: 0.9736 - val_loss: 1.1534 - val_tp: 69.0000 - val_fp: 38.0000 - val_tn: 438.0000 - val_fn: 50.0000 - val_accuracy: 0.8521 - val_precision: 0.6449 - val_recall: 0.5798 - val_auc: 0.8565\n",
      "Epoch 76/100\n",
      "277/277 [==============================] - 0s 2ms/step - loss: 0.4870 - tp: 214.0000 - fp: 33.0000 - tn: 1075.0000 - fn: 63.0000 - accuracy: 0.9307 - precision: 0.8664 - recall: 0.7726 - auc: 0.9745 - val_loss: 1.1624 - val_tp: 69.0000 - val_fp: 37.0000 - val_tn: 439.0000 - val_fn: 50.0000 - val_accuracy: 0.8538 - val_precision: 0.6509 - val_recall: 0.5798 - val_auc: 0.8550\n",
      "Epoch 77/100\n",
      "277/277 [==============================] - 0s 2ms/step - loss: 0.4741 - tp: 218.0000 - fp: 26.0000 - tn: 1082.0000 - fn: 59.0000 - accuracy: 0.9386 - precision: 0.8934 - recall: 0.7870 - auc: 0.9762 - val_loss: 1.1607 - val_tp: 66.0000 - val_fp: 35.0000 - val_tn: 441.0000 - val_fn: 53.0000 - val_accuracy: 0.8521 - val_precision: 0.6535 - val_recall: 0.5546 - val_auc: 0.8527\n",
      "Epoch 78/100\n",
      "277/277 [==============================] - 0s 2ms/step - loss: 0.4694 - tp: 215.0000 - fp: 26.0000 - tn: 1082.0000 - fn: 62.0000 - accuracy: 0.9365 - precision: 0.8921 - recall: 0.7762 - auc: 0.9771 - val_loss: 1.1754 - val_tp: 69.0000 - val_fp: 37.0000 - val_tn: 439.0000 - val_fn: 50.0000 - val_accuracy: 0.8538 - val_precision: 0.6509 - val_recall: 0.5798 - val_auc: 0.8542\n",
      "Epoch 79/100\n",
      "277/277 [==============================] - 0s 2ms/step - loss: 0.4623 - tp: 221.0000 - fp: 27.0000 - tn: 1081.0000 - fn: 56.0000 - accuracy: 0.9401 - precision: 0.8911 - recall: 0.7978 - auc: 0.9779 - val_loss: 1.1633 - val_tp: 69.0000 - val_fp: 38.0000 - val_tn: 438.0000 - val_fn: 50.0000 - val_accuracy: 0.8521 - val_precision: 0.6449 - val_recall: 0.5798 - val_auc: 0.8560\n",
      "Epoch 80/100\n",
      "258/277 [==========================>...] - ETA: 0s - loss: 0.4523 - tp: 206.0000 - fp: 22.0000 - tn: 1010.0000 - fn: 52.0000 - accuracy: 0.9426 - precision: 0.9035 - recall: 0.7984 - auc: 0.9784Restoring model weights from the end of the best epoch.\n",
      "277/277 [==============================] - 0s 2ms/step - loss: 0.4544 - tp: 220.0000 - fp: 25.0000 - tn: 1083.0000 - fn: 57.0000 - accuracy: 0.9408 - precision: 0.8980 - recall: 0.7942 - auc: 0.9781 - val_loss: 1.1750 - val_tp: 69.0000 - val_fp: 38.0000 - val_tn: 438.0000 - val_fn: 50.0000 - val_accuracy: 0.8521 - val_precision: 0.6449 - val_recall: 0.5798 - val_auc: 0.8557\n",
      "Epoch 00080: early stopping\n"
     ]
    }
   ],
   "source": [
    "model = make_model()\n",
    "history = model.fit(\n",
    "    X_train,\n",
    "    y_tr,\n",
    "    batch_size=BATCH_SIZE,\n",
    "    epochs=EPOCHS,\n",
    "    callbacks = [early_stopping],\n",
    "    validation_data=(X_test,y_te))"
   ]
  },
  {
   "cell_type": "code",
   "execution_count": 16,
   "metadata": {
    "id": "8HNXEcPJ8ya0"
   },
   "outputs": [],
   "source": [
    "def plot_metrics(history):\n",
    "  metrics =  ['auc', 'precision', 'recall','accuracy']\n",
    "  for n, metric in enumerate(metrics):\n",
    "    name = metric.replace(\"_\",\" \").capitalize()\n",
    "    plt.subplot(2,2,n+1)\n",
    "    plt.plot(history.epoch,  history.history[metric], color=colors[0], label='Train')\n",
    "    plt.plot(history.epoch, history.history['val_'+metric],\n",
    "             color=colors[0], linestyle=\"--\", label='Val')\n",
    "    plt.xlabel('Epoch')\n",
    "    plt.ylabel(name)\n",
    "    if metric == 'loss':\n",
    "      plt.ylim([0, plt.ylim()[1]])\n",
    "    elif metric == 'auc':\n",
    "      plt.ylim([0.8,1])\n",
    "    else:\n",
    "      plt.ylim([0,1])\n",
    "\n",
    "    plt.legend()"
   ]
  },
  {
   "cell_type": "code",
   "execution_count": 17,
   "metadata": {
    "colab": {
     "base_uri": "https://localhost:8080/",
     "height": 610
    },
    "id": "1uDb9yWv-QiD",
    "outputId": "ccedd8b9-3fdd-4624-9c71-08be05ece1e4"
   },
   "outputs": [
    {
     "data": {
      "image/png": "[encoded data removed]",
      "text/plain": [
       "<Figure size 864x720 with 4 Axes>"
      ]
     },
     "metadata": {
      "needs_background": "light",
      "tags": []
     },
     "output_type": "display_data"
    }
   ],
   "source": [
    "plot_metrics(history)"
   ]
  },
  {
   "cell_type": "code",
   "execution_count": 18,
   "metadata": {
    "id": "xCBDltOX-bzU"
   },
   "outputs": [],
   "source": [
    "predictions = np.argmax(model.predict(X_test,batch_size=1), axis=-1)"
   ]
  },
  {
   "cell_type": "code",
   "execution_count": 19,
   "metadata": {
    "colab": {
     "base_uri": "https://localhost:8080/"
    },
    "id": "KzpzKdMT-9v9",
    "outputId": "d6a080e5-6bbf-47b7-c56e-b435795a080b"
   },
   "outputs": [
    {
     "data": {
      "text/plain": [
       "array([2, 2, 0, 2, 2, 2, 2, 4, 2, 2, 2, 2, 1, 2, 2, 2, 2, 2, 2, 2, 2, 2,\n",
       "       2, 2, 2, 1, 2, 2, 0, 2, 2, 2, 4, 1, 4, 2, 2, 2, 2, 2, 2, 2, 2, 2,\n",
       "       2, 2, 2, 2, 2, 2, 2, 2, 2, 2, 2, 2, 2, 0, 2, 2, 2, 2, 2, 2, 2, 0,\n",
       "       2, 2, 2, 2, 2, 2, 2, 2, 2, 2, 2, 2, 2, 2, 2, 2, 2, 2, 2, 2, 2, 2,\n",
       "       2, 1, 2, 0, 2, 2, 2, 2, 2, 2, 2, 2, 2, 2, 1, 2, 2, 2, 2, 2, 4, 2,\n",
       "       2, 2, 2, 2, 2, 2, 2, 2, 2])"
      ]
     },
     "execution_count": 19,
     "metadata": {
      "tags": []
     },
     "output_type": "execute_result"
    }
   ],
   "source": [
    "predictions"
   ]
  },
  {
   "cell_type": "code",
   "execution_count": 20,
   "metadata": {
    "colab": {
     "base_uri": "https://localhost:8080/"
    },
    "id": "4W8VSJKC_3J5",
    "outputId": "337c87d5-b19a-4414-84e6-cb3dd2077ca5"
   },
   "outputs": [
    {
     "name": "stdout",
     "output_type": "stream",
     "text": [
      "loss :  1.1474155187606812\n",
      "tp :  69.0\n",
      "fp :  41.0\n",
      "tn :  435.0\n",
      "fn :  50.0\n",
      "accuracy :  0.8470584750175476\n",
      "precision :  0.6272727251052856\n",
      "recall :  0.5798319578170776\n",
      "auc :  0.8584051728248596\n",
      "\n"
     ]
    }
   ],
   "source": [
    "baseline_results = model.evaluate(X_test,y_te,\n",
    "                                  batch_size=BATCH_SIZE, verbose=0)\n",
    "for name, value in zip(model.metrics_names, baseline_results):\n",
    "  print(name, ': ', value)\n",
    "print()"
   ]
  },
  {
   "cell_type": "code",
   "execution_count": 21,
   "metadata": {
    "id": "iPE0w2m0B1IZ"
   },
   "outputs": [],
   "source": [
    "def plot_confusion_matrix(cm, classes,\n",
    "                          normalize=False,\n",
    "                          title='Confusion matrix',\n",
    "                          cmap=plt.cm.Blues):\n",
    "    \"\"\"\n",
    "    This function prints and plots the confusion matrix.\n",
    "    Normalization can be applied by setting `normalize=True`.\n",
    "    \"\"\"\n",
    "    import itertools\n",
    "    if normalize:\n",
    "        cm = cm.astype('float') / cm.sum(axis=1)[:, np.newaxis]\n",
    "        print(\"Normalized confusion matrix\")\n",
    "    else:\n",
    "        print('Confusion matrix')\n",
    "\n",
    "    print(cm)\n",
    "\n",
    "    plt.imshow(cm, interpolation='nearest', cmap=cmap)\n",
    "    plt.title(title)\n",
    "    plt.colorbar()\n",
    "    tick_marks = np.arange(len(classes))\n",
    "    plt.xticks(tick_marks, classes, rotation=45)\n",
    "    plt.yticks(tick_marks, classes)\n",
    "\n",
    "    fmt = '.2f' if normalize else 'd'\n",
    "    thresh = cm.max() / 2.\n",
    "    for i, j in itertools.product(range(cm.shape[0]), range(cm.shape[1])):\n",
    "        plt.text(j, i, format(cm[i, j], fmt),\n",
    "                 horizontalalignment=\"center\",\n",
    "                 color=\"white\" if cm[i, j] > thresh else \"black\")\n",
    "\n",
    "    plt.ylabel('True label')\n",
    "    plt.xlabel('Predicted label')\n",
    "    plt.tight_layout()"
   ]
  },
  {
   "cell_type": "code",
   "execution_count": 22,
   "metadata": {
    "colab": {
     "base_uri": "https://localhost:8080/",
     "height": 832
    },
    "id": "fGumsffDCt1h",
    "outputId": "7f464e4a-9ede-457a-bcd4-7f58f629080a"
   },
   "outputs": [
    {
     "name": "stdout",
     "output_type": "stream",
     "text": [
      "Confusion matrix\n",
      "[[ 2  0 11  0  0]\n",
      " [ 0  1 18  0  0]\n",
      " [ 3  4 67  0  0]\n",
      " [ 0  0  3  0  0]\n",
      " [ 0  0  6  0  4]]\n"
     ]
    },
    {
     "data": {
      "image/png": "[encoded data removed]",
      "text/plain": [
       "<Figure size 864x720 with 2 Axes>"
      ]
     },
     "metadata": {
      "needs_background": "light",
      "tags": []
     },
     "output_type": "display_data"
    }
   ],
   "source": [
    "cnf_matrix = confusion_matrix(y_test, predictions)\n",
    "np.set_printoptions(precision=2)\n",
    "\n",
    "# Plot non-normalized confusion matrix\n",
    "plt.figure()\n",
    "plot_confusion_matrix(cnf_matrix, classes=['0', '1', '2','3','4'],\n",
    "                      title='Confusion matrix')"
   ]
  },
  {
   "cell_type": "code",
   "execution_count": 23,
   "metadata": {
    "colab": {
     "base_uri": "https://localhost:8080/"
    },
    "id": "v3_oEYVco3aZ",
    "outputId": "ebbda738-2f13-434b-b85c-5c5c1f20f708"
   },
   "outputs": [
    {
     "name": "stdout",
     "output_type": "stream",
     "text": [
      "              precision    recall  f1-score   support\n",
      "\n",
      "           0       0.40      0.15      0.22        13\n",
      "           1       0.20      0.05      0.08        19\n",
      "           2       0.64      0.91      0.75        74\n",
      "           3       0.00      0.00      0.00         3\n",
      "           4       1.00      0.40      0.57        10\n",
      "\n",
      "    accuracy                           0.62       119\n",
      "   macro avg       0.45      0.30      0.33       119\n",
      "weighted avg       0.56      0.62      0.55       119\n",
      "\n"
     ]
    },
    {
     "name": "stderr",
     "output_type": "stream",
     "text": [
      "/usr/local/lib/python3.6/dist-packages/sklearn/metrics/_classification.py:1272: UndefinedMetricWarning: Precision and F-score are ill-defined and being set to 0.0 in labels with no predicted samples. Use `zero_division` parameter to control this behavior.\n",
      "  _warn_prf(average, modifier, msg_start, len(result))\n"
     ]
    }
   ],
   "source": [
    "from sklearn.metrics import classification_report\n",
    "report = classification_report(y_test, predictions)\n",
    "print(report)"
   ]
  },
  {
   "cell_type": "code",
   "execution_count": 24,
   "metadata": {
    "colab": {
     "base_uri": "https://localhost:8080/"
    },
    "id": "csQKHHfKpL0V",
    "outputId": "8dbecb8a-8cda-41f6-eb12-a70b52c28629"
   },
   "outputs": [
    {
     "name": "stdout",
     "output_type": "stream",
     "text": [
      "1 of KFold 5\n",
      "Epoch 1/100\n",
      "316/316 [==============================] - 1s 4ms/step - loss: 1.4766 - tp: 160.0000 - fp: 117.0000 - tn: 1147.0000 - fn: 156.0000 - accuracy: 0.8272 - precision: 0.5776 - recall: 0.5063 - auc: 0.8139 - val_loss: 1.0909 - val_tp: 48.0000 - val_fp: 28.0000 - val_tn: 292.0000 - val_fn: 32.0000 - val_accuracy: 0.8500 - val_precision: 0.6316 - val_recall: 0.6000 - val_auc: 0.8735\n",
      "Epoch 2/100\n",
      "316/316 [==============================] - 1s 2ms/step - loss: 1.0526 - tp: 158.0000 - fp: 98.0000 - tn: 1166.0000 - fn: 158.0000 - accuracy: 0.8380 - precision: 0.6172 - recall: 0.5000 - auc: 0.8642 - val_loss: 1.0704 - val_tp: 46.0000 - val_fp: 28.0000 - val_tn: 292.0000 - val_fn: 34.0000 - val_accuracy: 0.8450 - val_precision: 0.6216 - val_recall: 0.5750 - val_auc: 0.8683\n",
      "Epoch 3/100\n",
      "316/316 [==============================] - 1s 2ms/step - loss: 0.9832 - tp: 160.0000 - fp: 98.0000 - tn: 1166.0000 - fn: 156.0000 - accuracy: 0.8392 - precision: 0.6202 - recall: 0.5063 - auc: 0.8765 - val_loss: 1.0584 - val_tp: 47.0000 - val_fp: 28.0000 - val_tn: 292.0000 - val_fn: 33.0000 - val_accuracy: 0.8475 - val_precision: 0.6267 - val_recall: 0.5875 - val_auc: 0.8711\n",
      "Epoch 4/100\n",
      "316/316 [==============================] - 1s 2ms/step - loss: 0.9430 - tp: 162.0000 - fp: 87.0000 - tn: 1177.0000 - fn: 154.0000 - accuracy: 0.8475 - precision: 0.6506 - recall: 0.5127 - auc: 0.8852 - val_loss: 1.1172 - val_tp: 45.0000 - val_fp: 30.0000 - val_tn: 290.0000 - val_fn: 35.0000 - val_accuracy: 0.8375 - val_precision: 0.6000 - val_recall: 0.5625 - val_auc: 0.8581\n",
      "Epoch 5/100\n",
      "316/316 [==============================] - 1s 2ms/step - loss: 0.9186 - tp: 173.0000 - fp: 86.0000 - tn: 1178.0000 - fn: 143.0000 - accuracy: 0.8551 - precision: 0.6680 - recall: 0.5475 - auc: 0.8912 - val_loss: 1.0906 - val_tp: 46.0000 - val_fp: 29.0000 - val_tn: 291.0000 - val_fn: 34.0000 - val_accuracy: 0.8425 - val_precision: 0.6133 - val_recall: 0.5750 - val_auc: 0.8686\n",
      "Epoch 6/100\n",
      "316/316 [==============================] - 1s 2ms/step - loss: 0.9135 - tp: 177.0000 - fp: 91.0000 - tn: 1173.0000 - fn: 139.0000 - accuracy: 0.8544 - precision: 0.6604 - recall: 0.5601 - auc: 0.8921 - val_loss: 1.0598 - val_tp: 43.0000 - val_fp: 28.0000 - val_tn: 292.0000 - val_fn: 37.0000 - val_accuracy: 0.8375 - val_precision: 0.6056 - val_recall: 0.5375 - val_auc: 0.8640\n",
      "Epoch 7/100\n",
      "316/316 [==============================] - 1s 2ms/step - loss: 0.8918 - tp: 171.0000 - fp: 82.0000 - tn: 1182.0000 - fn: 145.0000 - accuracy: 0.8563 - precision: 0.6759 - recall: 0.5411 - auc: 0.8967 - val_loss: 0.9403 - val_tp: 46.0000 - val_fp: 24.0000 - val_tn: 296.0000 - val_fn: 34.0000 - val_accuracy: 0.8550 - val_precision: 0.6571 - val_recall: 0.5750 - val_auc: 0.8895\n",
      "Epoch 8/100\n",
      "316/316 [==============================] - 1s 2ms/step - loss: 0.8787 - tp: 177.0000 - fp: 79.0000 - tn: 1185.0000 - fn: 139.0000 - accuracy: 0.8620 - precision: 0.6914 - recall: 0.5601 - auc: 0.8999 - val_loss: 1.0113 - val_tp: 44.0000 - val_fp: 21.0000 - val_tn: 299.0000 - val_fn: 36.0000 - val_accuracy: 0.8575 - val_precision: 0.6769 - val_recall: 0.5500 - val_auc: 0.8681\n",
      "Epoch 9/100\n",
      "316/316 [==============================] - 1s 2ms/step - loss: 0.8539 - tp: 172.0000 - fp: 74.0000 - tn: 1190.0000 - fn: 144.0000 - accuracy: 0.8620 - precision: 0.6992 - recall: 0.5443 - auc: 0.9063 - val_loss: 1.0542 - val_tp: 48.0000 - val_fp: 31.0000 - val_tn: 289.0000 - val_fn: 32.0000 - val_accuracy: 0.8425 - val_precision: 0.6076 - val_recall: 0.6000 - val_auc: 0.8764\n",
      "Epoch 10/100\n",
      "316/316 [==============================] - 1s 2ms/step - loss: 0.8568 - tp: 180.0000 - fp: 81.0000 - tn: 1183.0000 - fn: 136.0000 - accuracy: 0.8627 - precision: 0.6897 - recall: 0.5696 - auc: 0.9051 - val_loss: 1.0255 - val_tp: 47.0000 - val_fp: 28.0000 - val_tn: 292.0000 - val_fn: 33.0000 - val_accuracy: 0.8475 - val_precision: 0.6267 - val_recall: 0.5875 - val_auc: 0.8774\n",
      "Epoch 11/100\n",
      "316/316 [==============================] - 1s 2ms/step - loss: 0.8480 - tp: 181.0000 - fp: 75.0000 - tn: 1189.0000 - fn: 135.0000 - accuracy: 0.8671 - precision: 0.7070 - recall: 0.5728 - auc: 0.9069 - val_loss: 0.9309 - val_tp: 45.0000 - val_fp: 20.0000 - val_tn: 300.0000 - val_fn: 35.0000 - val_accuracy: 0.8625 - val_precision: 0.6923 - val_recall: 0.5625 - val_auc: 0.8897\n",
      "Epoch 12/100\n",
      "316/316 [==============================] - 1s 2ms/step - loss: 0.8323 - tp: 178.0000 - fp: 74.0000 - tn: 1190.0000 - fn: 138.0000 - accuracy: 0.8658 - precision: 0.7063 - recall: 0.5633 - auc: 0.9107 - val_loss: 1.0249 - val_tp: 42.0000 - val_fp: 24.0000 - val_tn: 296.0000 - val_fn: 38.0000 - val_accuracy: 0.8450 - val_precision: 0.6364 - val_recall: 0.5250 - val_auc: 0.8645\n",
      "Epoch 13/100\n",
      "316/316 [==============================] - 1s 2ms/step - loss: 0.8127 - tp: 185.0000 - fp: 72.0000 - tn: 1192.0000 - fn: 131.0000 - accuracy: 0.8715 - precision: 0.7198 - recall: 0.5854 - auc: 0.9148 - val_loss: 0.9509 - val_tp: 48.0000 - val_fp: 26.0000 - val_tn: 294.0000 - val_fn: 32.0000 - val_accuracy: 0.8550 - val_precision: 0.6486 - val_recall: 0.6000 - val_auc: 0.8880\n",
      "Epoch 14/100\n",
      "316/316 [==============================] - 1s 2ms/step - loss: 0.8094 - tp: 177.0000 - fp: 82.0000 - tn: 1182.0000 - fn: 139.0000 - accuracy: 0.8601 - precision: 0.6834 - recall: 0.5601 - auc: 0.9151 - val_loss: 0.9599 - val_tp: 37.0000 - val_fp: 21.0000 - val_tn: 299.0000 - val_fn: 43.0000 - val_accuracy: 0.8400 - val_precision: 0.6379 - val_recall: 0.4625 - val_auc: 0.8811\n",
      "Epoch 15/100\n",
      "316/316 [==============================] - 1s 2ms/step - loss: 0.7986 - tp: 174.0000 - fp: 78.0000 - tn: 1186.0000 - fn: 142.0000 - accuracy: 0.8608 - precision: 0.6905 - recall: 0.5506 - auc: 0.9175 - val_loss: 0.9576 - val_tp: 48.0000 - val_fp: 28.0000 - val_tn: 292.0000 - val_fn: 32.0000 - val_accuracy: 0.8500 - val_precision: 0.6316 - val_recall: 0.6000 - val_auc: 0.8880\n",
      "Epoch 16/100\n",
      "316/316 [==============================] - 1s 2ms/step - loss: 0.7850 - tp: 183.0000 - fp: 75.0000 - tn: 1189.0000 - fn: 133.0000 - accuracy: 0.8684 - precision: 0.7093 - recall: 0.5791 - auc: 0.9200 - val_loss: 0.9830 - val_tp: 47.0000 - val_fp: 28.0000 - val_tn: 292.0000 - val_fn: 33.0000 - val_accuracy: 0.8475 - val_precision: 0.6267 - val_recall: 0.5875 - val_auc: 0.8846\n",
      "Epoch 17/100\n",
      "316/316 [==============================] - 1s 2ms/step - loss: 0.7842 - tp: 193.0000 - fp: 70.0000 - tn: 1194.0000 - fn: 123.0000 - accuracy: 0.8778 - precision: 0.7338 - recall: 0.6108 - auc: 0.9205 - val_loss: 0.9585 - val_tp: 47.0000 - val_fp: 29.0000 - val_tn: 291.0000 - val_fn: 33.0000 - val_accuracy: 0.8450 - val_precision: 0.6184 - val_recall: 0.5875 - val_auc: 0.8855\n",
      "Epoch 18/100\n",
      "316/316 [==============================] - 1s 2ms/step - loss: 0.7796 - tp: 190.0000 - fp: 84.0000 - tn: 1180.0000 - fn: 126.0000 - accuracy: 0.8671 - precision: 0.6934 - recall: 0.6013 - auc: 0.9214 - val_loss: 0.9448 - val_tp: 44.0000 - val_fp: 25.0000 - val_tn: 295.0000 - val_fn: 36.0000 - val_accuracy: 0.8475 - val_precision: 0.6377 - val_recall: 0.5500 - val_auc: 0.8867\n",
      "Epoch 19/100\n",
      "316/316 [==============================] - 1s 2ms/step - loss: 0.7615 - tp: 190.0000 - fp: 71.0000 - tn: 1193.0000 - fn: 126.0000 - accuracy: 0.8753 - precision: 0.7280 - recall: 0.6013 - auc: 0.9240 - val_loss: 0.9850 - val_tp: 44.0000 - val_fp: 28.0000 - val_tn: 292.0000 - val_fn: 36.0000 - val_accuracy: 0.8400 - val_precision: 0.6111 - val_recall: 0.5500 - val_auc: 0.8797\n",
      "Epoch 20/100\n",
      "316/316 [==============================] - 1s 2ms/step - loss: 0.7711 - tp: 190.0000 - fp: 71.0000 - tn: 1193.0000 - fn: 126.0000 - accuracy: 0.8753 - precision: 0.7280 - recall: 0.6013 - auc: 0.9228 - val_loss: 0.9237 - val_tp: 46.0000 - val_fp: 27.0000 - val_tn: 293.0000 - val_fn: 34.0000 - val_accuracy: 0.8475 - val_precision: 0.6301 - val_recall: 0.5750 - val_auc: 0.8934\n",
      "Epoch 21/100\n",
      "316/316 [==============================] - 1s 2ms/step - loss: 0.7539 - tp: 194.0000 - fp: 74.0000 - tn: 1190.0000 - fn: 122.0000 - accuracy: 0.8760 - precision: 0.7239 - recall: 0.6139 - auc: 0.9262 - val_loss: 0.9547 - val_tp: 45.0000 - val_fp: 29.0000 - val_tn: 291.0000 - val_fn: 35.0000 - val_accuracy: 0.8400 - val_precision: 0.6081 - val_recall: 0.5625 - val_auc: 0.8871\n",
      "Epoch 22/100\n",
      "316/316 [==============================] - 1s 2ms/step - loss: 0.7403 - tp: 198.0000 - fp: 65.0000 - tn: 1199.0000 - fn: 118.0000 - accuracy: 0.8842 - precision: 0.7529 - recall: 0.6266 - auc: 0.9296 - val_loss: 0.9192 - val_tp: 48.0000 - val_fp: 25.0000 - val_tn: 295.0000 - val_fn: 32.0000 - val_accuracy: 0.8575 - val_precision: 0.6575 - val_recall: 0.6000 - val_auc: 0.8921\n",
      "Epoch 23/100\n",
      "316/316 [==============================] - 1s 2ms/step - loss: 0.7277 - tp: 193.0000 - fp: 68.0000 - tn: 1196.0000 - fn: 123.0000 - accuracy: 0.8791 - precision: 0.7395 - recall: 0.6108 - auc: 0.9315 - val_loss: 0.9702 - val_tp: 47.0000 - val_fp: 31.0000 - val_tn: 289.0000 - val_fn: 33.0000 - val_accuracy: 0.8400 - val_precision: 0.6026 - val_recall: 0.5875 - val_auc: 0.8979\n",
      "Epoch 24/100\n",
      "316/316 [==============================] - 1s 2ms/step - loss: 0.7340 - tp: 204.0000 - fp: 72.0000 - tn: 1192.0000 - fn: 112.0000 - accuracy: 0.8835 - precision: 0.7391 - recall: 0.6456 - auc: 0.9299 - val_loss: 0.9920 - val_tp: 34.0000 - val_fp: 22.0000 - val_tn: 298.0000 - val_fn: 46.0000 - val_accuracy: 0.8300 - val_precision: 0.6071 - val_recall: 0.4250 - val_auc: 0.8735\n",
      "Epoch 25/100\n",
      "316/316 [==============================] - 1s 2ms/step - loss: 0.7209 - tp: 193.0000 - fp: 65.0000 - tn: 1199.0000 - fn: 123.0000 - accuracy: 0.8810 - precision: 0.7481 - recall: 0.6108 - auc: 0.9322 - val_loss: 0.9510 - val_tp: 44.0000 - val_fp: 29.0000 - val_tn: 291.0000 - val_fn: 36.0000 - val_accuracy: 0.8375 - val_precision: 0.6027 - val_recall: 0.5500 - val_auc: 0.8879\n",
      "Epoch 26/100\n",
      "316/316 [==============================] - 1s 2ms/step - loss: 0.7253 - tp: 196.0000 - fp: 65.0000 - tn: 1199.0000 - fn: 120.0000 - accuracy: 0.8829 - precision: 0.7510 - recall: 0.6203 - auc: 0.9325 - val_loss: 1.0040 - val_tp: 46.0000 - val_fp: 31.0000 - val_tn: 289.0000 - val_fn: 34.0000 - val_accuracy: 0.8375 - val_precision: 0.5974 - val_recall: 0.5750 - val_auc: 0.8934\n",
      "Epoch 27/100\n",
      "316/316 [==============================] - 1s 2ms/step - loss: 0.7130 - tp: 200.0000 - fp: 72.0000 - tn: 1192.0000 - fn: 116.0000 - accuracy: 0.8810 - precision: 0.7353 - recall: 0.6329 - auc: 0.9338 - val_loss: 1.0589 - val_tp: 32.0000 - val_fp: 27.0000 - val_tn: 293.0000 - val_fn: 48.0000 - val_accuracy: 0.8125 - val_precision: 0.5424 - val_recall: 0.4000 - val_auc: 0.8523\n",
      "Epoch 28/100\n",
      "316/316 [==============================] - 1s 2ms/step - loss: 0.6955 - tp: 195.0000 - fp: 59.0000 - tn: 1205.0000 - fn: 121.0000 - accuracy: 0.8861 - precision: 0.7677 - recall: 0.6171 - auc: 0.9387 - val_loss: 1.0427 - val_tp: 49.0000 - val_fp: 28.0000 - val_tn: 292.0000 - val_fn: 31.0000 - val_accuracy: 0.8525 - val_precision: 0.6364 - val_recall: 0.6125 - val_auc: 0.8899\n",
      "Epoch 29/100\n",
      "316/316 [==============================] - 1s 2ms/step - loss: 0.6965 - tp: 205.0000 - fp: 66.0000 - tn: 1198.0000 - fn: 111.0000 - accuracy: 0.8880 - precision: 0.7565 - recall: 0.6487 - auc: 0.9362 - val_loss: 0.9534 - val_tp: 43.0000 - val_fp: 26.0000 - val_tn: 294.0000 - val_fn: 37.0000 - val_accuracy: 0.8425 - val_precision: 0.6232 - val_recall: 0.5375 - val_auc: 0.8839\n",
      "Epoch 30/100\n",
      "316/316 [==============================] - 1s 2ms/step - loss: 0.6902 - tp: 200.0000 - fp: 65.0000 - tn: 1199.0000 - fn: 116.0000 - accuracy: 0.8854 - precision: 0.7547 - recall: 0.6329 - auc: 0.9381 - val_loss: 0.9728 - val_tp: 46.0000 - val_fp: 24.0000 - val_tn: 296.0000 - val_fn: 34.0000 - val_accuracy: 0.8550 - val_precision: 0.6571 - val_recall: 0.5750 - val_auc: 0.8853\n",
      "Epoch 31/100\n",
      "316/316 [==============================] - 1s 2ms/step - loss: 0.6788 - tp: 206.0000 - fp: 70.0000 - tn: 1194.0000 - fn: 110.0000 - accuracy: 0.8861 - precision: 0.7464 - recall: 0.6519 - auc: 0.9407 - val_loss: 0.9454 - val_tp: 44.0000 - val_fp: 27.0000 - val_tn: 293.0000 - val_fn: 36.0000 - val_accuracy: 0.8425 - val_precision: 0.6197 - val_recall: 0.5500 - val_auc: 0.8867\n",
      "Epoch 32/100\n",
      "316/316 [==============================] - 1s 2ms/step - loss: 0.6844 - tp: 202.0000 - fp: 74.0000 - tn: 1190.0000 - fn: 114.0000 - accuracy: 0.8810 - precision: 0.7319 - recall: 0.6392 - auc: 0.9387 - val_loss: 1.0798 - val_tp: 47.0000 - val_fp: 31.0000 - val_tn: 289.0000 - val_fn: 33.0000 - val_accuracy: 0.8400 - val_precision: 0.6026 - val_recall: 0.5875 - val_auc: 0.8763\n",
      "Epoch 33/100\n",
      "294/316 [==========================>...] - ETA: 0s - loss: 0.6749 - tp: 194.0000 - fp: 57.0000 - tn: 1119.0000 - fn: 100.0000 - accuracy: 0.8932 - precision: 0.7729 - recall: 0.6599 - auc: 0.9413Restoring model weights from the end of the best epoch.\n",
      "316/316 [==============================] - 1s 2ms/step - loss: 0.6714 - tp: 208.0000 - fp: 61.0000 - tn: 1203.0000 - fn: 108.0000 - accuracy: 0.8930 - precision: 0.7732 - recall: 0.6582 - auc: 0.9419 - val_loss: 1.0231 - val_tp: 45.0000 - val_fp: 31.0000 - val_tn: 289.0000 - val_fn: 35.0000 - val_accuracy: 0.8350 - val_precision: 0.5921 - val_recall: 0.5625 - val_auc: 0.8776\n",
      "Epoch 00033: early stopping\n",
      "accuracy_score: 0.5875\n",
      "2 of KFold 5\n",
      "Epoch 1/100\n",
      "317/317 [==============================] - 1s 2ms/step - loss: 0.7787 - tp: 196.0000 - fp: 72.0000 - tn: 1196.0000 - fn: 121.0000 - accuracy: 0.8782 - precision: 0.7313 - recall: 0.6183 - auc: 0.9211 - val_loss: 0.8121 - val_tp: 50.0000 - val_fp: 26.0000 - val_tn: 290.0000 - val_fn: 29.0000 - val_accuracy: 0.8608 - val_precision: 0.6579 - val_recall: 0.6329 - val_auc: 0.9176\n",
      "Epoch 2/100\n",
      "317/317 [==============================] - 1s 2ms/step - loss: 0.7683 - tp: 185.0000 - fp: 82.0000 - tn: 1186.0000 - fn: 132.0000 - accuracy: 0.8650 - precision: 0.6929 - recall: 0.5836 - auc: 0.9232 - val_loss: 0.7916 - val_tp: 52.0000 - val_fp: 21.0000 - val_tn: 295.0000 - val_fn: 27.0000 - val_accuracy: 0.8785 - val_precision: 0.7123 - val_recall: 0.6582 - val_auc: 0.9223\n",
      "Epoch 3/100\n",
      "317/317 [==============================] - 1s 2ms/step - loss: 0.7481 - tp: 198.0000 - fp: 78.0000 - tn: 1190.0000 - fn: 119.0000 - accuracy: 0.8757 - precision: 0.7174 - recall: 0.6246 - auc: 0.9273 - val_loss: 0.7574 - val_tp: 44.0000 - val_fp: 15.0000 - val_tn: 301.0000 - val_fn: 35.0000 - val_accuracy: 0.8734 - val_precision: 0.7458 - val_recall: 0.5570 - val_auc: 0.9260\n",
      "Epoch 4/100\n",
      "317/317 [==============================] - 1s 2ms/step - loss: 0.7516 - tp: 202.0000 - fp: 72.0000 - tn: 1196.0000 - fn: 115.0000 - accuracy: 0.8820 - precision: 0.7372 - recall: 0.6372 - auc: 0.9268 - val_loss: 0.7653 - val_tp: 44.0000 - val_fp: 21.0000 - val_tn: 295.0000 - val_fn: 35.0000 - val_accuracy: 0.8582 - val_precision: 0.6769 - val_recall: 0.5570 - val_auc: 0.9237\n",
      "Epoch 5/100\n",
      "317/317 [==============================] - 1s 2ms/step - loss: 0.7245 - tp: 197.0000 - fp: 69.0000 - tn: 1199.0000 - fn: 120.0000 - accuracy: 0.8808 - precision: 0.7406 - recall: 0.6215 - auc: 0.9326 - val_loss: 0.9523 - val_tp: 39.0000 - val_fp: 22.0000 - val_tn: 294.0000 - val_fn: 40.0000 - val_accuracy: 0.8430 - val_precision: 0.6393 - val_recall: 0.4937 - val_auc: 0.8757\n",
      "Epoch 6/100\n",
      "317/317 [==============================] - 1s 2ms/step - loss: 0.7135 - tp: 209.0000 - fp: 65.0000 - tn: 1203.0000 - fn: 108.0000 - accuracy: 0.8909 - precision: 0.7628 - recall: 0.6593 - auc: 0.9341 - val_loss: 0.9460 - val_tp: 36.0000 - val_fp: 27.0000 - val_tn: 289.0000 - val_fn: 43.0000 - val_accuracy: 0.8228 - val_precision: 0.5714 - val_recall: 0.4557 - val_auc: 0.8788\n",
      "Epoch 7/100\n",
      "317/317 [==============================] - 1s 2ms/step - loss: 0.6978 - tp: 196.0000 - fp: 70.0000 - tn: 1198.0000 - fn: 121.0000 - accuracy: 0.8795 - precision: 0.7368 - recall: 0.6183 - auc: 0.9365 - val_loss: 0.8561 - val_tp: 46.0000 - val_fp: 27.0000 - val_tn: 289.0000 - val_fn: 33.0000 - val_accuracy: 0.8481 - val_precision: 0.6301 - val_recall: 0.5823 - val_auc: 0.9085\n",
      "Epoch 8/100\n",
      "317/317 [==============================] - 1s 2ms/step - loss: 0.7088 - tp: 207.0000 - fp: 69.0000 - tn: 1199.0000 - fn: 110.0000 - accuracy: 0.8871 - precision: 0.7500 - recall: 0.6530 - auc: 0.9346 - val_loss: 0.8641 - val_tp: 49.0000 - val_fp: 27.0000 - val_tn: 289.0000 - val_fn: 30.0000 - val_accuracy: 0.8557 - val_precision: 0.6447 - val_recall: 0.6203 - val_auc: 0.9100\n",
      "Epoch 9/100\n",
      "317/317 [==============================] - 1s 2ms/step - loss: 0.6898 - tp: 204.0000 - fp: 67.0000 - tn: 1201.0000 - fn: 113.0000 - accuracy: 0.8864 - precision: 0.7528 - recall: 0.6435 - auc: 0.9387 - val_loss: 0.8701 - val_tp: 41.0000 - val_fp: 24.0000 - val_tn: 292.0000 - val_fn: 38.0000 - val_accuracy: 0.8430 - val_precision: 0.6308 - val_recall: 0.5190 - val_auc: 0.8995\n",
      "Epoch 10/100\n",
      "317/317 [==============================] - 1s 2ms/step - loss: 0.6722 - tp: 211.0000 - fp: 74.0000 - tn: 1194.0000 - fn: 106.0000 - accuracy: 0.8864 - precision: 0.7404 - recall: 0.6656 - auc: 0.9420 - val_loss: 0.8273 - val_tp: 48.0000 - val_fp: 24.0000 - val_tn: 292.0000 - val_fn: 31.0000 - val_accuracy: 0.8608 - val_precision: 0.6667 - val_recall: 0.6076 - val_auc: 0.9101\n",
      "Epoch 11/100\n",
      "317/317 [==============================] - 1s 2ms/step - loss: 0.6809 - tp: 209.0000 - fp: 75.0000 - tn: 1193.0000 - fn: 108.0000 - accuracy: 0.8845 - precision: 0.7359 - recall: 0.6593 - auc: 0.9394 - val_loss: 0.9430 - val_tp: 42.0000 - val_fp: 22.0000 - val_tn: 294.0000 - val_fn: 37.0000 - val_accuracy: 0.8506 - val_precision: 0.6562 - val_recall: 0.5316 - val_auc: 0.8856\n",
      "Epoch 12/100\n",
      "317/317 [==============================] - 1s 2ms/step - loss: 0.6725 - tp: 215.0000 - fp: 67.0000 - tn: 1201.0000 - fn: 102.0000 - accuracy: 0.8934 - precision: 0.7624 - recall: 0.6782 - auc: 0.9421 - val_loss: 0.9686 - val_tp: 47.0000 - val_fp: 30.0000 - val_tn: 286.0000 - val_fn: 32.0000 - val_accuracy: 0.8430 - val_precision: 0.6104 - val_recall: 0.5949 - val_auc: 0.9031\n",
      "Epoch 13/100\n",
      "313/317 [============================>.] - ETA: 0s - loss: 0.6679 - tp: 209.0000 - fp: 64.0000 - tn: 1188.0000 - fn: 104.0000 - accuracy: 0.8927 - precision: 0.7656 - recall: 0.6677 - auc: 0.9425Restoring model weights from the end of the best epoch.\n",
      "317/317 [==============================] - 1s 2ms/step - loss: 0.6664 - tp: 211.0000 - fp: 64.0000 - tn: 1204.0000 - fn: 106.0000 - accuracy: 0.8927 - precision: 0.7673 - recall: 0.6656 - auc: 0.9427 - val_loss: 0.8873 - val_tp: 45.0000 - val_fp: 26.0000 - val_tn: 290.0000 - val_fn: 34.0000 - val_accuracy: 0.8481 - val_precision: 0.6338 - val_recall: 0.5696 - val_auc: 0.9018\n",
      "Epoch 00013: early stopping\n",
      "accuracy_score: 0.6708860759493671\n",
      "3 of KFold 5\n",
      "Epoch 1/100\n",
      "317/317 [==============================] - 1s 2ms/step - loss: 0.7292 - tp: 195.0000 - fp: 73.0000 - tn: 1195.0000 - fn: 122.0000 - accuracy: 0.8770 - precision: 0.7276 - recall: 0.6151 - auc: 0.9305 - val_loss: 0.7828 - val_tp: 52.0000 - val_fp: 25.0000 - val_tn: 291.0000 - val_fn: 27.0000 - val_accuracy: 0.8684 - val_precision: 0.6753 - val_recall: 0.6582 - val_auc: 0.9254\n",
      "Epoch 2/100\n",
      "317/317 [==============================] - 1s 2ms/step - loss: 0.7201 - tp: 191.0000 - fp: 76.0000 - tn: 1192.0000 - fn: 126.0000 - accuracy: 0.8726 - precision: 0.7154 - recall: 0.6025 - auc: 0.9306 - val_loss: 0.7349 - val_tp: 54.0000 - val_fp: 18.0000 - val_tn: 298.0000 - val_fn: 25.0000 - val_accuracy: 0.8911 - val_precision: 0.7500 - val_recall: 0.6835 - val_auc: 0.9308\n",
      "Epoch 3/100\n",
      "317/317 [==============================] - 1s 2ms/step - loss: 0.7120 - tp: 193.0000 - fp: 72.0000 - tn: 1196.0000 - fn: 124.0000 - accuracy: 0.8763 - precision: 0.7283 - recall: 0.6088 - auc: 0.9333 - val_loss: 0.8427 - val_tp: 51.0000 - val_fp: 20.0000 - val_tn: 296.0000 - val_fn: 28.0000 - val_accuracy: 0.8785 - val_precision: 0.7183 - val_recall: 0.6456 - val_auc: 0.9117\n",
      "Epoch 4/100\n",
      "317/317 [==============================] - 1s 2ms/step - loss: 0.7062 - tp: 193.0000 - fp: 76.0000 - tn: 1192.0000 - fn: 124.0000 - accuracy: 0.8738 - precision: 0.7175 - recall: 0.6088 - auc: 0.9343 - val_loss: 0.7786 - val_tp: 52.0000 - val_fp: 14.0000 - val_tn: 302.0000 - val_fn: 27.0000 - val_accuracy: 0.8962 - val_precision: 0.7879 - val_recall: 0.6582 - val_auc: 0.9213\n",
      "Epoch 5/100\n",
      "317/317 [==============================] - 1s 2ms/step - loss: 0.6931 - tp: 200.0000 - fp: 66.0000 - tn: 1202.0000 - fn: 117.0000 - accuracy: 0.8845 - precision: 0.7519 - recall: 0.6309 - auc: 0.9381 - val_loss: 0.8432 - val_tp: 40.0000 - val_fp: 14.0000 - val_tn: 302.0000 - val_fn: 39.0000 - val_accuracy: 0.8658 - val_precision: 0.7407 - val_recall: 0.5063 - val_auc: 0.9095\n",
      "Epoch 6/100\n",
      "317/317 [==============================] - 1s 2ms/step - loss: 0.6900 - tp: 198.0000 - fp: 69.0000 - tn: 1199.0000 - fn: 119.0000 - accuracy: 0.8814 - precision: 0.7416 - recall: 0.6246 - auc: 0.9378 - val_loss: 0.8903 - val_tp: 48.0000 - val_fp: 19.0000 - val_tn: 297.0000 - val_fn: 31.0000 - val_accuracy: 0.8734 - val_precision: 0.7164 - val_recall: 0.6076 - val_auc: 0.8977\n",
      "Epoch 7/100\n",
      "317/317 [==============================] - 1s 2ms/step - loss: 0.6820 - tp: 205.0000 - fp: 64.0000 - tn: 1204.0000 - fn: 112.0000 - accuracy: 0.8890 - precision: 0.7621 - recall: 0.6467 - auc: 0.9391 - val_loss: 0.8605 - val_tp: 49.0000 - val_fp: 22.0000 - val_tn: 294.0000 - val_fn: 30.0000 - val_accuracy: 0.8684 - val_precision: 0.6901 - val_recall: 0.6203 - val_auc: 0.9084\n",
      "Epoch 8/100\n",
      "317/317 [==============================] - 1s 2ms/step - loss: 0.6647 - tp: 207.0000 - fp: 68.0000 - tn: 1200.0000 - fn: 110.0000 - accuracy: 0.8877 - precision: 0.7527 - recall: 0.6530 - auc: 0.9412 - val_loss: 0.9709 - val_tp: 41.0000 - val_fp: 28.0000 - val_tn: 288.0000 - val_fn: 38.0000 - val_accuracy: 0.8329 - val_precision: 0.5942 - val_recall: 0.5190 - val_auc: 0.8820\n",
      "Epoch 9/100\n",
      "317/317 [==============================] - 1s 2ms/step - loss: 0.6721 - tp: 202.0000 - fp: 71.0000 - tn: 1197.0000 - fn: 115.0000 - accuracy: 0.8827 - precision: 0.7399 - recall: 0.6372 - auc: 0.9398 - val_loss: 0.8098 - val_tp: 51.0000 - val_fp: 18.0000 - val_tn: 298.0000 - val_fn: 28.0000 - val_accuracy: 0.8835 - val_precision: 0.7391 - val_recall: 0.6456 - val_auc: 0.9166\n",
      "Epoch 10/100\n",
      "317/317 [==============================] - 1s 2ms/step - loss: 0.6454 - tp: 214.0000 - fp: 73.0000 - tn: 1195.0000 - fn: 103.0000 - accuracy: 0.8890 - precision: 0.7456 - recall: 0.6751 - auc: 0.9438 - val_loss: 0.9179 - val_tp: 47.0000 - val_fp: 24.0000 - val_tn: 292.0000 - val_fn: 32.0000 - val_accuracy: 0.8582 - val_precision: 0.6620 - val_recall: 0.5949 - val_auc: 0.8933\n",
      "Epoch 11/100\n",
      "317/317 [==============================] - 1s 2ms/step - loss: 0.6606 - tp: 201.0000 - fp: 74.0000 - tn: 1194.0000 - fn: 116.0000 - accuracy: 0.8801 - precision: 0.7309 - recall: 0.6341 - auc: 0.9415 - val_loss: 0.8822 - val_tp: 51.0000 - val_fp: 21.0000 - val_tn: 295.0000 - val_fn: 28.0000 - val_accuracy: 0.8759 - val_precision: 0.7083 - val_recall: 0.6456 - val_auc: 0.9034\n",
      "Epoch 12/100\n",
      "317/317 [==============================] - ETA: 0s - loss: 0.6534 - tp: 210.0000 - fp: 70.0000 - tn: 1198.0000 - fn: 107.0000 - accuracy: 0.8883 - precision: 0.7500 - recall: 0.6625 - auc: 0.9434Restoring model weights from the end of the best epoch.\n",
      "317/317 [==============================] - 1s 2ms/step - loss: 0.6534 - tp: 210.0000 - fp: 70.0000 - tn: 1198.0000 - fn: 107.0000 - accuracy: 0.8883 - precision: 0.7500 - recall: 0.6625 - auc: 0.9434 - val_loss: 0.9293 - val_tp: 49.0000 - val_fp: 19.0000 - val_tn: 297.0000 - val_fn: 30.0000 - val_accuracy: 0.8759 - val_precision: 0.7206 - val_recall: 0.6203 - val_auc: 0.8951\n",
      "Epoch 00012: early stopping\n",
      "accuracy_score: 0.7341772151898734\n",
      "4 of KFold 5\n",
      "Epoch 1/100\n",
      "317/317 [==============================] - 1s 2ms/step - loss: 0.7665 - tp: 203.0000 - fp: 69.0000 - tn: 1199.0000 - fn: 114.0000 - accuracy: 0.8845 - precision: 0.7463 - recall: 0.6404 - auc: 0.9237 - val_loss: 0.6439 - val_tp: 50.0000 - val_fp: 18.0000 - val_tn: 298.0000 - val_fn: 29.0000 - val_accuracy: 0.8810 - val_precision: 0.7353 - val_recall: 0.6329 - val_auc: 0.9443\n",
      "Epoch 2/100\n",
      "317/317 [==============================] - 1s 2ms/step - loss: 0.7590 - tp: 197.0000 - fp: 87.0000 - tn: 1181.0000 - fn: 120.0000 - accuracy: 0.8694 - precision: 0.6937 - recall: 0.6215 - auc: 0.9243 - val_loss: 0.6990 - val_tp: 49.0000 - val_fp: 12.0000 - val_tn: 304.0000 - val_fn: 30.0000 - val_accuracy: 0.8937 - val_precision: 0.8033 - val_recall: 0.6203 - val_auc: 0.9430\n",
      "Epoch 3/100\n",
      "317/317 [==============================] - 1s 2ms/step - loss: 0.7365 - tp: 195.0000 - fp: 74.0000 - tn: 1194.0000 - fn: 122.0000 - accuracy: 0.8763 - precision: 0.7249 - recall: 0.6151 - auc: 0.9284 - val_loss: 0.6863 - val_tp: 44.0000 - val_fp: 17.0000 - val_tn: 299.0000 - val_fn: 35.0000 - val_accuracy: 0.8684 - val_precision: 0.7213 - val_recall: 0.5570 - val_auc: 0.9372\n",
      "Epoch 4/100\n",
      "317/317 [==============================] - 1s 2ms/step - loss: 0.7220 - tp: 197.0000 - fp: 70.0000 - tn: 1198.0000 - fn: 120.0000 - accuracy: 0.8801 - precision: 0.7378 - recall: 0.6215 - auc: 0.9323 - val_loss: 0.7781 - val_tp: 43.0000 - val_fp: 23.0000 - val_tn: 293.0000 - val_fn: 36.0000 - val_accuracy: 0.8506 - val_precision: 0.6515 - val_recall: 0.5443 - val_auc: 0.9173\n",
      "Epoch 5/100\n",
      "317/317 [==============================] - 1s 2ms/step - loss: 0.7072 - tp: 202.0000 - fp: 71.0000 - tn: 1197.0000 - fn: 115.0000 - accuracy: 0.8827 - precision: 0.7399 - recall: 0.6372 - auc: 0.9346 - val_loss: 0.7489 - val_tp: 50.0000 - val_fp: 23.0000 - val_tn: 293.0000 - val_fn: 29.0000 - val_accuracy: 0.8684 - val_precision: 0.6849 - val_recall: 0.6329 - val_auc: 0.9288\n",
      "Epoch 6/100\n",
      "317/317 [==============================] - 1s 2ms/step - loss: 0.7180 - tp: 208.0000 - fp: 69.0000 - tn: 1199.0000 - fn: 109.0000 - accuracy: 0.8877 - precision: 0.7509 - recall: 0.6562 - auc: 0.9315 - val_loss: 0.7585 - val_tp: 48.0000 - val_fp: 23.0000 - val_tn: 293.0000 - val_fn: 31.0000 - val_accuracy: 0.8633 - val_precision: 0.6761 - val_recall: 0.6076 - val_auc: 0.9264\n",
      "Epoch 7/100\n",
      "317/317 [==============================] - 1s 2ms/step - loss: 0.7107 - tp: 205.0000 - fp: 65.0000 - tn: 1203.0000 - fn: 112.0000 - accuracy: 0.8883 - precision: 0.7593 - recall: 0.6467 - auc: 0.9349 - val_loss: 0.6992 - val_tp: 47.0000 - val_fp: 20.0000 - val_tn: 296.0000 - val_fn: 32.0000 - val_accuracy: 0.8684 - val_precision: 0.7015 - val_recall: 0.5949 - val_auc: 0.9320\n",
      "Epoch 8/100\n",
      "317/317 [==============================] - 1s 2ms/step - loss: 0.7008 - tp: 208.0000 - fp: 65.0000 - tn: 1203.0000 - fn: 109.0000 - accuracy: 0.8902 - precision: 0.7619 - recall: 0.6562 - auc: 0.9364 - val_loss: 0.7257 - val_tp: 44.0000 - val_fp: 20.0000 - val_tn: 296.0000 - val_fn: 35.0000 - val_accuracy: 0.8608 - val_precision: 0.6875 - val_recall: 0.5570 - val_auc: 0.9293\n",
      "Epoch 9/100\n",
      "317/317 [==============================] - 1s 2ms/step - loss: 0.6965 - tp: 204.0000 - fp: 69.0000 - tn: 1199.0000 - fn: 113.0000 - accuracy: 0.8852 - precision: 0.7473 - recall: 0.6435 - auc: 0.9363 - val_loss: 0.7207 - val_tp: 41.0000 - val_fp: 12.0000 - val_tn: 304.0000 - val_fn: 38.0000 - val_accuracy: 0.8734 - val_precision: 0.7736 - val_recall: 0.5190 - val_auc: 0.9332\n",
      "Epoch 10/100\n",
      "317/317 [==============================] - 1s 2ms/step - loss: 0.6850 - tp: 214.0000 - fp: 61.0000 - tn: 1207.0000 - fn: 103.0000 - accuracy: 0.8965 - precision: 0.7782 - recall: 0.6751 - auc: 0.9390 - val_loss: 0.7270 - val_tp: 48.0000 - val_fp: 21.0000 - val_tn: 295.0000 - val_fn: 31.0000 - val_accuracy: 0.8684 - val_precision: 0.6957 - val_recall: 0.6076 - val_auc: 0.9306\n",
      "Epoch 11/100\n",
      "294/317 [==========================>...] - ETA: 0s - loss: 0.6674 - tp: 187.0000 - fp: 54.0000 - tn: 1122.0000 - fn: 107.0000 - accuracy: 0.8905 - precision: 0.7759 - recall: 0.6361 - auc: 0.9426Restoring model weights from the end of the best epoch.\n",
      "317/317 [==============================] - 1s 2ms/step - loss: 0.6725 - tp: 202.0000 - fp: 61.0000 - tn: 1207.0000 - fn: 115.0000 - accuracy: 0.8890 - precision: 0.7681 - recall: 0.6372 - auc: 0.9414 - val_loss: 0.8179 - val_tp: 44.0000 - val_fp: 22.0000 - val_tn: 294.0000 - val_fn: 35.0000 - val_accuracy: 0.8557 - val_precision: 0.6667 - val_recall: 0.5570 - val_auc: 0.9124\n",
      "Epoch 00011: early stopping\n",
      "accuracy_score: 0.7088607594936709\n",
      "5 of KFold 5\n",
      "Epoch 1/100\n",
      "317/317 [==============================] - 1s 2ms/step - loss: 0.7547 - tp: 192.0000 - fp: 76.0000 - tn: 1192.0000 - fn: 125.0000 - accuracy: 0.8732 - precision: 0.7164 - recall: 0.6057 - auc: 0.9258 - val_loss: 0.7365 - val_tp: 45.0000 - val_fp: 9.0000 - val_tn: 307.0000 - val_fn: 34.0000 - val_accuracy: 0.8911 - val_precision: 0.8333 - val_recall: 0.5696 - val_auc: 0.9351\n",
      "Epoch 2/100\n",
      "317/317 [==============================] - 1s 2ms/step - loss: 0.7518 - tp: 188.0000 - fp: 73.0000 - tn: 1195.0000 - fn: 129.0000 - accuracy: 0.8726 - precision: 0.7203 - recall: 0.5931 - auc: 0.9257 - val_loss: 0.6728 - val_tp: 49.0000 - val_fp: 22.0000 - val_tn: 294.0000 - val_fn: 30.0000 - val_accuracy: 0.8684 - val_precision: 0.6901 - val_recall: 0.6203 - val_auc: 0.9417\n",
      "Epoch 3/100\n",
      "317/317 [==============================] - 1s 2ms/step - loss: 0.7170 - tp: 203.0000 - fp: 74.0000 - tn: 1194.0000 - fn: 114.0000 - accuracy: 0.8814 - precision: 0.7329 - recall: 0.6404 - auc: 0.9327 - val_loss: 0.7600 - val_tp: 49.0000 - val_fp: 24.0000 - val_tn: 292.0000 - val_fn: 30.0000 - val_accuracy: 0.8633 - val_precision: 0.6712 - val_recall: 0.6203 - val_auc: 0.9226\n",
      "Epoch 4/100\n",
      "317/317 [==============================] - 1s 2ms/step - loss: 0.7112 - tp: 202.0000 - fp: 79.0000 - tn: 1189.0000 - fn: 115.0000 - accuracy: 0.8776 - precision: 0.7189 - recall: 0.6372 - auc: 0.9344 - val_loss: 0.7589 - val_tp: 46.0000 - val_fp: 22.0000 - val_tn: 294.0000 - val_fn: 33.0000 - val_accuracy: 0.8608 - val_precision: 0.6765 - val_recall: 0.5823 - val_auc: 0.9235\n",
      "Epoch 5/100\n",
      "317/317 [==============================] - 1s 2ms/step - loss: 0.7117 - tp: 205.0000 - fp: 72.0000 - tn: 1196.0000 - fn: 112.0000 - accuracy: 0.8839 - precision: 0.7401 - recall: 0.6467 - auc: 0.9345 - val_loss: 0.7274 - val_tp: 45.0000 - val_fp: 23.0000 - val_tn: 293.0000 - val_fn: 34.0000 - val_accuracy: 0.8557 - val_precision: 0.6618 - val_recall: 0.5696 - val_auc: 0.9304\n",
      "Epoch 6/100\n",
      "317/317 [==============================] - 1s 2ms/step - loss: 0.7034 - tp: 199.0000 - fp: 71.0000 - tn: 1197.0000 - fn: 118.0000 - accuracy: 0.8808 - precision: 0.7370 - recall: 0.6278 - auc: 0.9352 - val_loss: 0.7418 - val_tp: 43.0000 - val_fp: 23.0000 - val_tn: 293.0000 - val_fn: 36.0000 - val_accuracy: 0.8506 - val_precision: 0.6515 - val_recall: 0.5443 - val_auc: 0.9265\n",
      "Epoch 7/100\n",
      "317/317 [==============================] - 1s 2ms/step - loss: 0.6943 - tp: 207.0000 - fp: 65.0000 - tn: 1203.0000 - fn: 110.0000 - accuracy: 0.8896 - precision: 0.7610 - recall: 0.6530 - auc: 0.9364 - val_loss: 0.7956 - val_tp: 41.0000 - val_fp: 17.0000 - val_tn: 299.0000 - val_fn: 38.0000 - val_accuracy: 0.8608 - val_precision: 0.7069 - val_recall: 0.5190 - val_auc: 0.9154\n",
      "Epoch 8/100\n",
      "317/317 [==============================] - 1s 2ms/step - loss: 0.6772 - tp: 208.0000 - fp: 62.0000 - tn: 1206.0000 - fn: 109.0000 - accuracy: 0.8921 - precision: 0.7704 - recall: 0.6562 - auc: 0.9414 - val_loss: 0.9315 - val_tp: 39.0000 - val_fp: 25.0000 - val_tn: 291.0000 - val_fn: 40.0000 - val_accuracy: 0.8354 - val_precision: 0.6094 - val_recall: 0.4937 - val_auc: 0.8870\n",
      "Epoch 9/100\n",
      "317/317 [==============================] - 1s 2ms/step - loss: 0.6726 - tp: 203.0000 - fp: 73.0000 - tn: 1195.0000 - fn: 114.0000 - accuracy: 0.8820 - precision: 0.7355 - recall: 0.6404 - auc: 0.9413 - val_loss: 0.8550 - val_tp: 44.0000 - val_fp: 22.0000 - val_tn: 294.0000 - val_fn: 35.0000 - val_accuracy: 0.8557 - val_precision: 0.6667 - val_recall: 0.5570 - val_auc: 0.9016\n",
      "Epoch 10/100\n",
      "317/317 [==============================] - 1s 2ms/step - loss: 0.6654 - tp: 209.0000 - fp: 68.0000 - tn: 1200.0000 - fn: 108.0000 - accuracy: 0.8890 - precision: 0.7545 - recall: 0.6593 - auc: 0.9422 - val_loss: 0.7397 - val_tp: 49.0000 - val_fp: 21.0000 - val_tn: 295.0000 - val_fn: 30.0000 - val_accuracy: 0.8709 - val_precision: 0.7000 - val_recall: 0.6203 - val_auc: 0.9262\n",
      "Epoch 11/100\n",
      "317/317 [==============================] - 1s 2ms/step - loss: 0.6512 - tp: 213.0000 - fp: 66.0000 - tn: 1202.0000 - fn: 104.0000 - accuracy: 0.8927 - precision: 0.7634 - recall: 0.6719 - auc: 0.9455 - val_loss: 0.8915 - val_tp: 40.0000 - val_fp: 23.0000 - val_tn: 293.0000 - val_fn: 39.0000 - val_accuracy: 0.8430 - val_precision: 0.6349 - val_recall: 0.5063 - val_auc: 0.8943\n",
      "Epoch 12/100\n",
      "315/317 [============================>.] - ETA: 0s - loss: 0.6629 - tp: 213.0000 - fp: 64.0000 - tn: 1196.0000 - fn: 102.0000 - accuracy: 0.8946 - precision: 0.7690 - recall: 0.6762 - auc: 0.9428Restoring model weights from the end of the best epoch.\n",
      "317/317 [==============================] - 1s 2ms/step - loss: 0.6647 - tp: 213.0000 - fp: 65.0000 - tn: 1203.0000 - fn: 104.0000 - accuracy: 0.8934 - precision: 0.7662 - recall: 0.6719 - auc: 0.9424 - val_loss: 0.8170 - val_tp: 44.0000 - val_fp: 27.0000 - val_tn: 289.0000 - val_fn: 35.0000 - val_accuracy: 0.8430 - val_precision: 0.6197 - val_recall: 0.5570 - val_auc: 0.9109\n",
      "Epoch 00012: early stopping\n",
      "accuracy_score: 0.6582278481012658\n",
      "Average_Accuracy\n",
      "0.6719303797468354\n"
     ]
    }
   ],
   "source": [
    "from sklearn.model_selection import StratifiedKFold\n",
    "from sklearn.metrics import accuracy_score\n",
    "seed =45\n",
    "kf = StratifiedKFold(n_splits=5,shuffle=True,random_state=seed)\n",
    "pred_test_full =0\n",
    "cv_score =[]\n",
    "i=1\n",
    "for train_index,test_index in kf.split(X,y):\n",
    "    print('{} of KFold {}'.format(i,kf.n_splits))\n",
    "    xtr,xvl = X.loc[train_index],X.loc[test_index]\n",
    "    ytr,yvl = y.loc[train_index],y.loc[test_index]\n",
    "    ytr = pd.get_dummies(ytr)\n",
    "    yval = pd.get_dummies(yvl)\n",
    "    #model\n",
    "    model.fit(xtr,ytr, batch_size=BATCH_SIZE,epochs=EPOCHS,callbacks = [early_stopping],validation_data=(xvl,yval))\n",
    "    score = accuracy_score(yvl,np.argmax(model.predict(xvl,batch_size=1), axis=-1))\n",
    "    print('accuracy_score:',score)\n",
    "    cv_score.append(score)    \n",
    "    i+=1\n",
    "print('Average_Accuracy')\n",
    "print(sum(cv_score)/5)"
   ]
  },
  {
   "cell_type": "code",
   "execution_count": 25,
   "metadata": {
    "id": "yHbsLXzVx0op"
   },
   "outputs": [],
   "source": [
    "results = pd.read_csv('/content/drive/My Drive/HAX/summer project/MODELS.csv')"
   ]
  },
  {
   "cell_type": "code",
   "execution_count": 26,
   "metadata": {
    "id": "53wr1llVz4BW"
   },
   "outputs": [],
   "source": [
    "from sklearn.metrics import accuracy_score\n",
    "from sklearn.metrics import precision_score\n",
    "from sklearn.metrics import recall_score\n",
    "from sklearn.metrics import f1_score"
   ]
  },
  {
   "cell_type": "code",
   "execution_count": 27,
   "metadata": {
    "colab": {
     "base_uri": "https://localhost:8080/",
     "height": 456
    },
    "id": "3Qnyh3u_xdB7",
    "outputId": "f24c8c75-11b0-408e-dc58-fd2728e6769b"
   },
   "outputs": [
    {
     "name": "stderr",
     "output_type": "stream",
     "text": [
      "/usr/local/lib/python3.6/dist-packages/sklearn/metrics/_classification.py:1272: UndefinedMetricWarning: Precision is ill-defined and being set to 0.0 in labels with no predicted samples. Use `zero_division` parameter to control this behavior.\n",
      "  _warn_prf(average, modifier, msg_start, len(result))\n"
     ]
    },
    {
     "data": {
      "text/html": [
       "<div>\n",
       "<style scoped>\n",
       "    .dataframe tbody tr th:only-of-type {\n",
       "        vertical-align: middle;\n",
       "    }\n",
       "\n",
       "    .dataframe tbody tr th {\n",
       "        vertical-align: top;\n",
       "    }\n",
       "\n",
       "    .dataframe thead th {\n",
       "        text-align: right;\n",
       "    }\n",
       "</style>\n",
       "<table border=\"1\" class=\"dataframe\">\n",
       "  <thead>\n",
       "    <tr style=\"text-align: right;\">\n",
       "      <th></th>\n",
       "      <th>Method</th>\n",
       "      <th>accuracy</th>\n",
       "      <th>recall</th>\n",
       "      <th>precision</th>\n",
       "      <th>f1_score</th>\n",
       "      <th>cross_val_score</th>\n",
       "    </tr>\n",
       "  </thead>\n",
       "  <tbody>\n",
       "    <tr>\n",
       "      <th>0</th>\n",
       "      <td>Logistic Regression</td>\n",
       "      <td>0.625000</td>\n",
       "      <td>0.625000</td>\n",
       "      <td>0.573573</td>\n",
       "      <td>0.571560</td>\n",
       "      <td>0.643924</td>\n",
       "    </tr>\n",
       "    <tr>\n",
       "      <th>1</th>\n",
       "      <td>Gaussian Naive bayes</td>\n",
       "      <td>0.550000</td>\n",
       "      <td>0.550000</td>\n",
       "      <td>0.515269</td>\n",
       "      <td>0.527998</td>\n",
       "      <td>0.563196</td>\n",
       "    </tr>\n",
       "    <tr>\n",
       "      <th>2</th>\n",
       "      <td>K Nearest Neighbor</td>\n",
       "      <td>0.637500</td>\n",
       "      <td>0.637500</td>\n",
       "      <td>0.506061</td>\n",
       "      <td>0.522908</td>\n",
       "      <td>0.507532</td>\n",
       "    </tr>\n",
       "    <tr>\n",
       "      <th>3</th>\n",
       "      <td>Support Vector Machines</td>\n",
       "      <td>0.650000</td>\n",
       "      <td>0.650000</td>\n",
       "      <td>0.676736</td>\n",
       "      <td>0.572720</td>\n",
       "      <td>0.621203</td>\n",
       "    </tr>\n",
       "    <tr>\n",
       "      <th>4</th>\n",
       "      <td>Decision_tree</td>\n",
       "      <td>0.600000</td>\n",
       "      <td>0.600000</td>\n",
       "      <td>0.576863</td>\n",
       "      <td>0.587349</td>\n",
       "      <td>0.563038</td>\n",
       "    </tr>\n",
       "    <tr>\n",
       "      <th>5</th>\n",
       "      <td>Random Forest</td>\n",
       "      <td>0.700000</td>\n",
       "      <td>0.700000</td>\n",
       "      <td>0.746832</td>\n",
       "      <td>0.627617</td>\n",
       "      <td>0.648924</td>\n",
       "    </tr>\n",
       "    <tr>\n",
       "      <th>6</th>\n",
       "      <td>Gradient Boost</td>\n",
       "      <td>0.687500</td>\n",
       "      <td>0.687500</td>\n",
       "      <td>0.695000</td>\n",
       "      <td>0.681696</td>\n",
       "      <td>0.669082</td>\n",
       "    </tr>\n",
       "    <tr>\n",
       "      <th>7</th>\n",
       "      <td>XG Boost</td>\n",
       "      <td>0.687500</td>\n",
       "      <td>0.687500</td>\n",
       "      <td>0.693008</td>\n",
       "      <td>0.674947</td>\n",
       "      <td>0.626329</td>\n",
       "    </tr>\n",
       "    <tr>\n",
       "      <th>8</th>\n",
       "      <td>Light GBM</td>\n",
       "      <td>0.687500</td>\n",
       "      <td>0.687500</td>\n",
       "      <td>0.739015</td>\n",
       "      <td>0.674028</td>\n",
       "      <td>0.661677</td>\n",
       "    </tr>\n",
       "    <tr>\n",
       "      <th>9</th>\n",
       "      <td>Extratrees Classifier</td>\n",
       "      <td>0.637500</td>\n",
       "      <td>0.637500</td>\n",
       "      <td>0.542905</td>\n",
       "      <td>0.542561</td>\n",
       "      <td>0.654051</td>\n",
       "    </tr>\n",
       "    <tr>\n",
       "      <th>10</th>\n",
       "      <td>Voting Classifier</td>\n",
       "      <td>0.700000</td>\n",
       "      <td>0.700000</td>\n",
       "      <td>0.734474</td>\n",
       "      <td>0.675598</td>\n",
       "      <td>0.686899</td>\n",
       "    </tr>\n",
       "    <tr>\n",
       "      <th>11</th>\n",
       "      <td>Neural Network classifier</td>\n",
       "      <td>0.621849</td>\n",
       "      <td>0.621849</td>\n",
       "      <td>0.556463</td>\n",
       "      <td>0.551119</td>\n",
       "      <td>0.671930</td>\n",
       "    </tr>\n",
       "  </tbody>\n",
       "</table>\n",
       "</div>"
      ],
      "text/plain": [
       "                       Method  accuracy  ...  f1_score  cross_val_score\n",
       "0         Logistic Regression  0.625000  ...  0.571560         0.643924\n",
       "1        Gaussian Naive bayes  0.550000  ...  0.527998         0.563196\n",
       "2          K Nearest Neighbor  0.637500  ...  0.522908         0.507532\n",
       "3     Support Vector Machines  0.650000  ...  0.572720         0.621203\n",
       "4               Decision_tree  0.600000  ...  0.587349         0.563038\n",
       "5               Random Forest  0.700000  ...  0.627617         0.648924\n",
       "6              Gradient Boost  0.687500  ...  0.681696         0.669082\n",
       "7                    XG Boost  0.687500  ...  0.674947         0.626329\n",
       "8                   Light GBM  0.687500  ...  0.674028         0.661677\n",
       "9       Extratrees Classifier  0.637500  ...  0.542561         0.654051\n",
       "10          Voting Classifier  0.700000  ...  0.675598         0.686899\n",
       "11  Neural Network classifier  0.621849  ...  0.551119         0.671930\n",
       "\n",
       "[12 rows x 6 columns]"
      ]
     },
     "execution_count": 27,
     "metadata": {
      "tags": []
     },
     "output_type": "execute_result"
    }
   ],
   "source": [
    "accuracy = accuracy_score(y_test, predictions)\n",
    "recall = recall_score(y_test, predictions, average='weighted')\n",
    "precision = precision_score(y_test, predictions, average='weighted')\n",
    "f1 = f1_score(y_test, predictions, average='weighted')\n",
    "cross_validation_score = sum(cv_score)/5\n",
    "\n",
    "tempresults = pd.DataFrame({'Method':['Neural Network classifier'],\n",
    "                        'accuracy': accuracy,\n",
    "                       'recall':recall,\n",
    "                       'precision':precision,\n",
    "                       'f1_score':f1,\n",
    "                       'cross_val_score':cross_validation_score},index={'11'})\n",
    "results = pd.concat([results, tempresults])\n",
    "results = results[['Method', 'accuracy','recall','precision','f1_score','cross_val_score']]\n",
    "results"
   ]
  },
  {
   "cell_type": "code",
   "execution_count": 29,
   "metadata": {
    "id": "G879Tn04zpJV"
   },
   "outputs": [],
   "source": [
    "results.to_csv('MODELS_COMPLETE.csv',index=True)"
   ]
  }
 ],
 "metadata": {
  "colab": {
   "name": "Summer_project_NN.ipynb",
   "provenance": []
  },
  "kernelspec": {
   "display_name": "Python 3",
   "language": "python",
   "name": "python3"
  },
  "language_info": {
   "codemirror_mode": {
    "name": "ipython",
    "version": 3
   },
   "file_extension": ".py",
   "mimetype": "text/x-python",
   "name": "python",
   "nbconvert_exporter": "python",
   "pygments_lexer": "ipython3",
   "version": "3.7.4"
  }
 },
 "nbformat": 4,
 "nbformat_minor": 1
}
